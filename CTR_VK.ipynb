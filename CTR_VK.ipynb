{
 "cells": [
  {
   "cell_type": "code",
   "execution_count": 220,
   "metadata": {
    "executionInfo": {
     "elapsed": 312,
     "status": "ok",
     "timestamp": 1709984832743,
     "user": {
      "displayName": "Maxim Zinoviev",
      "userId": "03712553463271013627"
     },
     "user_tz": -180
    },
    "id": "-TViijW64NlI"
   },
   "outputs": [],
   "source": [
    "import requests\n",
    "import pandas as pd\n",
    "import numpy as np\n",
    "import time\n",
    "from tqdm import tqdm_notebook"
   ]
  },
  {
   "cell_type": "markdown",
   "metadata": {
    "id": "isLWBxRRrFbc"
   },
   "source": [
    "1. Запрашиваем access token по адресу: https://vkhost.github.io/\n",
    "2. Получаем ответ и сохраняем в файле token.txt"
   ]
  },
  {
   "cell_type": "code",
   "execution_count": 171,
   "metadata": {
    "executionInfo": {
     "elapsed": 319,
     "status": "ok",
     "timestamp": 1709984725841,
     "user": {
      "displayName": "Maxim Zinoviev",
      "userId": "03712553463271013627"
     },
     "user_tz": -180
    },
    "id": "bzhTtZIZAo9i"
   },
   "outputs": [],
   "source": [
    "with open(\"C:/Jupyter_Notebooks/token.txt\") as f:\n",
    "  token = f.read()"
   ]
  },
  {
   "cell_type": "markdown",
   "metadata": {},
   "source": [
    "Создадим для удобства функции"
   ]
  },
  {
   "cell_type": "code",
   "execution_count": 181,
   "metadata": {},
   "outputs": [],
   "source": [
    "def groupsGet(user_id):\n",
    "    version = '5.199'\n",
    "    url = 'https://api.vk.com/method/groups.get' + '?' +'user_id=' + str(user_id) + '&v=' + version + '&access_token=' +  token\n",
    "    response = requests.get(url)\n",
    "    return response.json().get('response')"
   ]
  },
  {
   "cell_type": "code",
   "execution_count": 182,
   "metadata": {},
   "outputs": [],
   "source": [
    "def friendsGet(user_id):\n",
    "    version = '5.199'\n",
    "    url = 'https://api.vk.com/method/friends.get?user_id=' + str(user_id) + '&v=' + version + '&access_token=' +  token\n",
    "    response = requests.get(url)\n",
    "    return response.json().get('response')"
   ]
  },
  {
   "cell_type": "code",
   "execution_count": 183,
   "metadata": {},
   "outputs": [],
   "source": [
    "def wallGet(owner_id):\n",
    "    version = '5.199'\n",
    "    url = 'https://api.vk.com/method/wall.get?owner_id=' + str(owner_id) + '&count=50&v=' + version + '&access_token=' +  token\n",
    "    response = requests.get(url)\n",
    "    return response.json().get('response')"
   ]
  },
  {
   "cell_type": "code",
   "execution_count": 184,
   "metadata": {},
   "outputs": [],
   "source": [
    "def isLiked(user_id, owner_id, item_id):\n",
    "    version = '5.199'\n",
    "    url = 'https://api.vk.com/method/likes.isLiked?user_id=' + str(user_id) + '&type=post&owner_id=' + str(owner_id) + '&item_id=' + item_id + '&v=' + version + '&access_token=' +  token\n",
    "    response = requests.get(url)\n",
    "    return response.json().get('response')"
   ]
  },
  {
   "cell_type": "markdown",
   "metadata": {
    "id": "87I-xNkOkQoN"
   },
   "source": [
    "# Анализ поведения друзей ВКонтакте\n",
    "1. Выгрузить посты из лент четырех друзей и меня, получить данные об их лайках и комментах. Записать результат в Pandas DataFrame и в CSV файл\n",
    "2. Построить Superset-дашборд с оценкой среднего CTR (лайк, коммент) по постам в топ 10 групп моих топ 4 друзей и меня\n",
    "3. Построить Superset-дашборд с оценкой среднего CTR (лайк, коммент) по друзьям и мне"
   ]
  },
  {
   "cell_type": "code",
   "execution_count": 100,
   "metadata": {},
   "outputs": [],
   "source": [
    "user_ids = ['560276504', '519552111', '413980874', '303943594', '519556029']"
   ]
  },
  {
   "cell_type": "code",
   "execution_count": 101,
   "metadata": {},
   "outputs": [],
   "source": [
    "names = ['Максим', 'Татьяна', 'Арсений', 'Алина', 'Олег']"
   ]
  },
  {
   "cell_type": "markdown",
   "metadata": {},
   "source": [
    "## 1. Выгрузка постов"
   ]
  },
  {
   "cell_type": "code",
   "execution_count": 193,
   "metadata": {},
   "outputs": [
    {
     "name": "stderr",
     "output_type": "stream",
     "text": [
      "C:\\Users\\zinov\\AppData\\Local\\Temp\\ipykernel_11816\\1347290676.py:13: TqdmDeprecationWarning: This function will be removed in tqdm==5.0.0\n",
      "Please use `tqdm.notebook.tqdm` instead of `tqdm.tqdm_notebook`\n",
      "  for group in tqdm_notebook(groups):\n"
     ]
    },
    {
     "data": {
      "application/vnd.jupyter.widget-view+json": {
       "model_id": "64827fb3362340ea925be4fd0461613b",
       "version_major": 2,
       "version_minor": 0
      },
      "text/plain": [
       "  0%|          | 0/55 [00:00<?, ?it/s]"
      ]
     },
     "metadata": {},
     "output_type": "display_data"
    },
    {
     "name": "stderr",
     "output_type": "stream",
     "text": [
      "C:\\Users\\zinov\\AppData\\Local\\Temp\\ipykernel_11816\\1347290676.py:26: TqdmDeprecationWarning: This function will be removed in tqdm==5.0.0\n",
      "Please use `tqdm.notebook.tqdm` instead of `tqdm.tqdm_notebook`\n",
      "  for friend in tqdm_notebook(friends):\n"
     ]
    },
    {
     "data": {
      "application/vnd.jupyter.widget-view+json": {
       "model_id": "03e78b9d14cb48e48961a5d5b4061f68",
       "version_major": 2,
       "version_minor": 0
      },
      "text/plain": [
       "  0%|          | 0/279 [00:00<?, ?it/s]"
      ]
     },
     "metadata": {},
     "output_type": "display_data"
    },
    {
     "data": {
      "application/vnd.jupyter.widget-view+json": {
       "model_id": "463f55e0283e42df9ed16cd53e84c45b",
       "version_major": 2,
       "version_minor": 0
      },
      "text/plain": [
       "  0%|          | 0/48 [00:00<?, ?it/s]"
      ]
     },
     "metadata": {},
     "output_type": "display_data"
    },
    {
     "data": {
      "application/vnd.jupyter.widget-view+json": {
       "model_id": "62e9083426c249bda51439e75810de74",
       "version_major": 2,
       "version_minor": 0
      },
      "text/plain": [
       "  0%|          | 0/89 [00:00<?, ?it/s]"
      ]
     },
     "metadata": {},
     "output_type": "display_data"
    },
    {
     "data": {
      "application/vnd.jupyter.widget-view+json": {
       "model_id": "fba55b3698064197ae2bfff1c53659f2",
       "version_major": 2,
       "version_minor": 0
      },
      "text/plain": [
       "  0%|          | 0/17 [00:00<?, ?it/s]"
      ]
     },
     "metadata": {},
     "output_type": "display_data"
    },
    {
     "data": {
      "application/vnd.jupyter.widget-view+json": {
       "model_id": "9dfb885aecc94523b3b611832e7de1d8",
       "version_major": 2,
       "version_minor": 0
      },
      "text/plain": [
       "  0%|          | 0/144 [00:00<?, ?it/s]"
      ]
     },
     "metadata": {},
     "output_type": "display_data"
    },
    {
     "data": {
      "application/vnd.jupyter.widget-view+json": {
       "model_id": "66be4b7e769b4791b791a5b2ffb88dcb",
       "version_major": 2,
       "version_minor": 0
      },
      "text/plain": [
       "  0%|          | 0/34 [00:00<?, ?it/s]"
      ]
     },
     "metadata": {},
     "output_type": "display_data"
    },
    {
     "data": {
      "application/vnd.jupyter.widget-view+json": {
       "model_id": "272d9c183a524de098f8d0f54c4bfd7a",
       "version_major": 2,
       "version_minor": 0
      },
      "text/plain": [
       "  0%|          | 0/64 [00:00<?, ?it/s]"
      ]
     },
     "metadata": {},
     "output_type": "display_data"
    },
    {
     "data": {
      "application/vnd.jupyter.widget-view+json": {
       "model_id": "afb967b6a2284172b9d2f76f9d20ecf1",
       "version_major": 2,
       "version_minor": 0
      },
      "text/plain": [
       "  0%|          | 0/30 [00:00<?, ?it/s]"
      ]
     },
     "metadata": {},
     "output_type": "display_data"
    },
    {
     "data": {
      "application/vnd.jupyter.widget-view+json": {
       "model_id": "ea93819faede421a9f2f774b9119ec6d",
       "version_major": 2,
       "version_minor": 0
      },
      "text/plain": [
       "  0%|          | 0/102 [00:00<?, ?it/s]"
      ]
     },
     "metadata": {},
     "output_type": "display_data"
    }
   ],
   "source": [
    "for i, user_id in enumerate(user_ids):\n",
    "    \n",
    "    feed = {\n",
    "        'page_id': [],\n",
    "        'post_id': [],\n",
    "        'text': [],\n",
    "        'likes': [],\n",
    "        'comments': [],\n",
    "        'views': []\n",
    "    }\n",
    "    \n",
    "    groups = groupsGet(user_id)['items']\n",
    "    for group in tqdm_notebook(groups):\n",
    "        time.sleep(0.4)\n",
    "        wall = wallGet('-' + str(group))\n",
    "        if wall != None:\n",
    "            wall = wall['items']\n",
    "            feed['page_id'].extend(['-' + str(group) for post in wall])\n",
    "            feed['post_id'].extend([post.get('id') for post in wall])\n",
    "            feed['text'].extend([post.get('text') for post in wall])\n",
    "            feed['likes'].extend([post.get('likes').get('count') if post.get('likes') != None else None for post in wall])\n",
    "            feed['comments'].extend([post.get('comments').get('count') if post.get('comments') != None else None for post in wall])\n",
    "            feed['views'].extend([post.get('views').get('count') if post.get('views') != None else None for post in wall])\n",
    "    \n",
    "    friends = friendsGet(str(user_id))['items']\n",
    "    for friend in tqdm_notebook(friends):\n",
    "        time.sleep(0.4)\n",
    "        wall = wallGet(friend)\n",
    "        if wall != None:\n",
    "            wall = wall['items']\n",
    "            feed['page_id'].extend([str(friend) for post in wall])\n",
    "            feed['post_id'].extend([post.get('id') for post in wall])\n",
    "            feed['text'].extend([post.get('text') for post in wall])\n",
    "            feed['likes'].extend([post.get('likes').get('count') if post.get('likes') != None else None for post in wall])\n",
    "            feed['comments'].extend([post.get('comments').get('count') if post.get('comments') != None else None for post in wall])\n",
    "            feed['views'].extend([post.get('views').get('count') if post.get('views') != None else None for post in wall])\n",
    "\n",
    "    df = pd.DataFrame(feed)\n",
    "    df.to_csv('Лента_' + names[i])"
   ]
  },
  {
   "cell_type": "markdown",
   "metadata": {},
   "source": [
    "## Исследуем получившийся набор данных"
   ]
  },
  {
   "cell_type": "code",
   "execution_count": 214,
   "metadata": {},
   "outputs": [],
   "source": [
    "df = pd.read_csv(\"C:/Users/zinov/Jupyter_Notebook/Лента_Максим\", index_col=0)"
   ]
  },
  {
   "cell_type": "code",
   "execution_count": 216,
   "metadata": {},
   "outputs": [],
   "source": [
    "df['ER'] = (df['likes'] + df['comments']) / df['views']"
   ]
  },
  {
   "cell_type": "code",
   "execution_count": 218,
   "metadata": {},
   "outputs": [
    {
     "name": "stdout",
     "output_type": "stream",
     "text": [
      "<class 'pandas.core.frame.DataFrame'>\n",
      "Index: 7813 entries, 0 to 7812\n",
      "Data columns (total 7 columns):\n",
      " #   Column    Non-Null Count  Dtype  \n",
      "---  ------    --------------  -----  \n",
      " 0   page_id   7813 non-null   int64  \n",
      " 1   post_id   7813 non-null   int64  \n",
      " 2   text      4379 non-null   object \n",
      " 3   likes     7812 non-null   float64\n",
      " 4   comments  7813 non-null   int64  \n",
      " 5   views     6825 non-null   float64\n",
      " 6   ER        6825 non-null   float64\n",
      "dtypes: float64(3), int64(3), object(1)\n",
      "memory usage: 488.3+ KB\n"
     ]
    }
   ],
   "source": [
    "df.info()"
   ]
  },
  {
   "cell_type": "code",
   "execution_count": 217,
   "metadata": {},
   "outputs": [
    {
     "data": {
      "text/html": [
       "<div>\n",
       "<style scoped>\n",
       "    .dataframe tbody tr th:only-of-type {\n",
       "        vertical-align: middle;\n",
       "    }\n",
       "\n",
       "    .dataframe tbody tr th {\n",
       "        vertical-align: top;\n",
       "    }\n",
       "\n",
       "    .dataframe thead th {\n",
       "        text-align: right;\n",
       "    }\n",
       "</style>\n",
       "<table border=\"1\" class=\"dataframe\">\n",
       "  <thead>\n",
       "    <tr style=\"text-align: right;\">\n",
       "      <th></th>\n",
       "      <th>page_id</th>\n",
       "      <th>post_id</th>\n",
       "      <th>text</th>\n",
       "      <th>likes</th>\n",
       "      <th>comments</th>\n",
       "      <th>views</th>\n",
       "      <th>ER</th>\n",
       "    </tr>\n",
       "  </thead>\n",
       "  <tbody>\n",
       "    <tr>\n",
       "      <th>4848</th>\n",
       "      <td>160456462</td>\n",
       "      <td>1373</td>\n",
       "      <td>NaN</td>\n",
       "      <td>2864.0</td>\n",
       "      <td>0</td>\n",
       "      <td>6100.0</td>\n",
       "      <td>0.469508</td>\n",
       "    </tr>\n",
       "    <tr>\n",
       "      <th>6928</th>\n",
       "      <td>360101151</td>\n",
       "      <td>52</td>\n",
       "      <td>В 11 класс. Так грустно осознавать, что послед...</td>\n",
       "      <td>47.0</td>\n",
       "      <td>0</td>\n",
       "      <td>104.0</td>\n",
       "      <td>0.451923</td>\n",
       "    </tr>\n",
       "    <tr>\n",
       "      <th>6940</th>\n",
       "      <td>360101151</td>\n",
       "      <td>39</td>\n",
       "      <td>NaN</td>\n",
       "      <td>31.0</td>\n",
       "      <td>0</td>\n",
       "      <td>80.0</td>\n",
       "      <td>0.387500</td>\n",
       "    </tr>\n",
       "    <tr>\n",
       "      <th>6843</th>\n",
       "      <td>328472533</td>\n",
       "      <td>371</td>\n",
       "      <td>NaN</td>\n",
       "      <td>81.0</td>\n",
       "      <td>0</td>\n",
       "      <td>237.0</td>\n",
       "      <td>0.341772</td>\n",
       "    </tr>\n",
       "    <tr>\n",
       "      <th>4410</th>\n",
       "      <td>140818451</td>\n",
       "      <td>50</td>\n",
       "      <td>NaN</td>\n",
       "      <td>18.0</td>\n",
       "      <td>0</td>\n",
       "      <td>54.0</td>\n",
       "      <td>0.333333</td>\n",
       "    </tr>\n",
       "    <tr>\n",
       "      <th>...</th>\n",
       "      <td>...</td>\n",
       "      <td>...</td>\n",
       "      <td>...</td>\n",
       "      <td>...</td>\n",
       "      <td>...</td>\n",
       "      <td>...</td>\n",
       "      <td>...</td>\n",
       "    </tr>\n",
       "    <tr>\n",
       "      <th>7663</th>\n",
       "      <td>599999955</td>\n",
       "      <td>429</td>\n",
       "      <td>Ариночка С днём рождения 🥳</td>\n",
       "      <td>3.0</td>\n",
       "      <td>1</td>\n",
       "      <td>NaN</td>\n",
       "      <td>NaN</td>\n",
       "    </tr>\n",
       "    <tr>\n",
       "      <th>7712</th>\n",
       "      <td>698418237</td>\n",
       "      <td>2042</td>\n",
       "      <td>NaN</td>\n",
       "      <td>0.0</td>\n",
       "      <td>0</td>\n",
       "      <td>NaN</td>\n",
       "      <td>NaN</td>\n",
       "    </tr>\n",
       "    <tr>\n",
       "      <th>7713</th>\n",
       "      <td>698418237</td>\n",
       "      <td>2041</td>\n",
       "      <td>NaN</td>\n",
       "      <td>0.0</td>\n",
       "      <td>0</td>\n",
       "      <td>NaN</td>\n",
       "      <td>NaN</td>\n",
       "    </tr>\n",
       "    <tr>\n",
       "      <th>7778</th>\n",
       "      <td>715787807</td>\n",
       "      <td>11273</td>\n",
       "      <td>Уважаемая Елена Викторовна! От лица нашего УИК...</td>\n",
       "      <td>11.0</td>\n",
       "      <td>1</td>\n",
       "      <td>NaN</td>\n",
       "      <td>NaN</td>\n",
       "    </tr>\n",
       "    <tr>\n",
       "      <th>7804</th>\n",
       "      <td>715787807</td>\n",
       "      <td>11063</td>\n",
       "      <td>NaN</td>\n",
       "      <td>6.0</td>\n",
       "      <td>0</td>\n",
       "      <td>NaN</td>\n",
       "      <td>NaN</td>\n",
       "    </tr>\n",
       "  </tbody>\n",
       "</table>\n",
       "<p>7813 rows × 7 columns</p>\n",
       "</div>"
      ],
      "text/plain": [
       "        page_id  post_id                                               text  \\\n",
       "4848  160456462     1373                                                NaN   \n",
       "6928  360101151       52  В 11 класс. Так грустно осознавать, что послед...   \n",
       "6940  360101151       39                                                NaN   \n",
       "6843  328472533      371                                                NaN   \n",
       "4410  140818451       50                                                NaN   \n",
       "...         ...      ...                                                ...   \n",
       "7663  599999955      429                         Ариночка С днём рождения 🥳   \n",
       "7712  698418237     2042                                                NaN   \n",
       "7713  698418237     2041                                                NaN   \n",
       "7778  715787807    11273  Уважаемая Елена Викторовна! От лица нашего УИК...   \n",
       "7804  715787807    11063                                                NaN   \n",
       "\n",
       "       likes  comments   views        ER  \n",
       "4848  2864.0         0  6100.0  0.469508  \n",
       "6928    47.0         0   104.0  0.451923  \n",
       "6940    31.0         0    80.0  0.387500  \n",
       "6843    81.0         0   237.0  0.341772  \n",
       "4410    18.0         0    54.0  0.333333  \n",
       "...      ...       ...     ...       ...  \n",
       "7663     3.0         1     NaN       NaN  \n",
       "7712     0.0         0     NaN       NaN  \n",
       "7713     0.0         0     NaN       NaN  \n",
       "7778    11.0         1     NaN       NaN  \n",
       "7804     6.0         0     NaN       NaN  \n",
       "\n",
       "[7813 rows x 7 columns]"
      ]
     },
     "execution_count": 217,
     "metadata": {},
     "output_type": "execute_result"
    }
   ],
   "source": [
    "df.sort_values(by='ER', ascending = False)"
   ]
  },
  {
   "cell_type": "code",
   "execution_count": 225,
   "metadata": {},
   "outputs": [
    {
     "data": {
      "image/png": "[encoded data removed]",
      "text/plain": [
       "<Figure size 2000x800 with 4 Axes>"
      ]
     },
     "metadata": {},
     "output_type": "display_data"
    }
   ],
   "source": [
    "df[['ER', 'likes', 'comments', 'views']].hist(bins = 50, figsize = (20, 8), log = True);"
   ]
  }
 ],
 "metadata": {
  "colab": {
   "authorship_tag": "ABX9TyMAHd96d5W4Kcdlj6V+BnUP",
   "mount_file_id": "1rZyhvfcxBJ1dMiUc8Zi8xYWNN8J57GCT",
   "provenance": []
  },
  "kernelspec": {
   "display_name": "Python 3 (ipykernel)",
   "language": "python",
   "name": "python3"
  },
  "language_info": {
   "codemirror_mode": {
    "name": "ipython",
    "version": 3
   },
   "file_extension": ".py",
   "mimetype": "text/x-python",
   "name": "python",
   "nbconvert_exporter": "python",
   "pygments_lexer": "ipython3",
   "version": "3.11.8"
  }
 },
 "nbformat": 4,
 "nbformat_minor": 4
}
