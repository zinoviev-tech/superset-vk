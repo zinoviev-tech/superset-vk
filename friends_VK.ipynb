{
 "cells": [
  {
   "cell_type": "markdown",
   "metadata": {
    "id": "87I-xNkOkQoN"
   },
   "source": [
    "# Анализ друзей ВКонтакте\n",
    "1. Проанализировать доли мужчин и женщин среди друзей ВКонтакте"
   ]
  },
  {
   "cell_type": "markdown",
   "metadata": {
    "id": "isLWBxRRrFbc",
    "jp-MarkdownHeadingCollapsed": true
   },
   "source": [
    "## Настройка библиотек\n",
    "1. Запрашиваем access token по адресу: https://vkhost.github.io/\n",
    "2. Получаем ответ и сохраняем в файле token.txt"
   ]
  },
  {
   "cell_type": "code",
   "execution_count": 4,
   "metadata": {
    "executionInfo": {
     "elapsed": 319,
     "status": "ok",
     "timestamp": 1709984725841,
     "user": {
      "displayName": "Maxim Zinoviev",
      "userId": "03712553463271013627"
     },
     "user_tz": -180
    },
    "id": "bzhTtZIZAo9i"
   },
   "outputs": [],
   "source": [
    "with open('token.txt') as f:\n",
    "  token = f.read()"
   ]
  },
  {
   "cell_type": "code",
   "execution_count": 119,
   "metadata": {},
   "outputs": [
    {
     "name": "stdout",
     "output_type": "stream",
     "text": [
      "Requirement already satisfied: tqdm in c:\\users\\zinov\\appdata\\local\\programs\\python\\python311\\lib\\site-packages (4.66.2)\n",
      "Requirement already satisfied: colorama in c:\\users\\zinov\\appdata\\local\\programs\\python\\python311\\lib\\site-packages (from tqdm) (0.4.6)\n",
      "Note: you may need to restart the kernel to use updated packages.\n"
     ]
    }
   ],
   "source": [
    "pip install tqdm"
   ]
  },
  {
   "cell_type": "code",
   "execution_count": 6,
   "metadata": {
    "executionInfo": {
     "elapsed": 312,
     "status": "ok",
     "timestamp": 1709984832743,
     "user": {
      "displayName": "Maxim Zinoviev",
      "userId": "03712553463271013627"
     },
     "user_tz": -180
    },
    "id": "-TViijW64NlI"
   },
   "outputs": [],
   "source": [
    "import requests\n",
    "from tqdm import tqdm_notebook"
   ]
  },
  {
   "cell_type": "code",
   "execution_count": 329,
   "metadata": {},
   "outputs": [
    {
     "name": "stdout",
     "output_type": "stream",
     "text": [
      "Collecting ipywidgets\n",
      "  Downloading ipywidgets-8.1.2-py3-none-any.whl.metadata (2.4 kB)\n",
      "Requirement already satisfied: comm>=0.1.3 in c:\\users\\zinov\\appdata\\local\\programs\\python\\python311\\lib\\site-packages (from ipywidgets) (0.2.1)\n",
      "Requirement already satisfied: ipython>=6.1.0 in c:\\users\\zinov\\appdata\\local\\programs\\python\\python311\\lib\\site-packages (from ipywidgets) (8.22.1)\n",
      "Requirement already satisfied: traitlets>=4.3.1 in c:\\users\\zinov\\appdata\\local\\programs\\python\\python311\\lib\\site-packages (from ipywidgets) (5.14.1)\n",
      "Collecting widgetsnbextension~=4.0.10 (from ipywidgets)\n",
      "  Downloading widgetsnbextension-4.0.10-py3-none-any.whl.metadata (1.6 kB)\n",
      "Collecting jupyterlab-widgets~=3.0.10 (from ipywidgets)\n",
      "  Downloading jupyterlab_widgets-3.0.10-py3-none-any.whl.metadata (4.1 kB)\n",
      "Requirement already satisfied: decorator in c:\\users\\zinov\\appdata\\local\\programs\\python\\python311\\lib\\site-packages (from ipython>=6.1.0->ipywidgets) (5.1.1)\n",
      "Requirement already satisfied: jedi>=0.16 in c:\\users\\zinov\\appdata\\local\\programs\\python\\python311\\lib\\site-packages (from ipython>=6.1.0->ipywidgets) (0.19.1)\n",
      "Requirement already satisfied: matplotlib-inline in c:\\users\\zinov\\appdata\\local\\programs\\python\\python311\\lib\\site-packages (from ipython>=6.1.0->ipywidgets) (0.1.6)\n",
      "Requirement already satisfied: prompt-toolkit<3.1.0,>=3.0.41 in c:\\users\\zinov\\appdata\\local\\programs\\python\\python311\\lib\\site-packages (from ipython>=6.1.0->ipywidgets) (3.0.43)\n",
      "Requirement already satisfied: pygments>=2.4.0 in c:\\users\\zinov\\appdata\\local\\programs\\python\\python311\\lib\\site-packages (from ipython>=6.1.0->ipywidgets) (2.17.2)\n",
      "Requirement already satisfied: stack-data in c:\\users\\zinov\\appdata\\local\\programs\\python\\python311\\lib\\site-packages (from ipython>=6.1.0->ipywidgets) (0.6.3)\n",
      "Requirement already satisfied: colorama in c:\\users\\zinov\\appdata\\local\\programs\\python\\python311\\lib\\site-packages (from ipython>=6.1.0->ipywidgets) (0.4.6)\n",
      "Requirement already satisfied: parso<0.9.0,>=0.8.3 in c:\\users\\zinov\\appdata\\local\\programs\\python\\python311\\lib\\site-packages (from jedi>=0.16->ipython>=6.1.0->ipywidgets) (0.8.3)\n",
      "Requirement already satisfied: wcwidth in c:\\users\\zinov\\appdata\\local\\programs\\python\\python311\\lib\\site-packages (from prompt-toolkit<3.1.0,>=3.0.41->ipython>=6.1.0->ipywidgets) (0.2.13)\n",
      "Requirement already satisfied: executing>=1.2.0 in c:\\users\\zinov\\appdata\\local\\programs\\python\\python311\\lib\\site-packages (from stack-data->ipython>=6.1.0->ipywidgets) (2.0.1)\n",
      "Requirement already satisfied: asttokens>=2.1.0 in c:\\users\\zinov\\appdata\\local\\programs\\python\\python311\\lib\\site-packages (from stack-data->ipython>=6.1.0->ipywidgets) (2.4.1)\n",
      "Requirement already satisfied: pure-eval in c:\\users\\zinov\\appdata\\local\\programs\\python\\python311\\lib\\site-packages (from stack-data->ipython>=6.1.0->ipywidgets) (0.2.2)\n",
      "Requirement already satisfied: six>=1.12.0 in c:\\users\\zinov\\appdata\\local\\programs\\python\\python311\\lib\\site-packages (from asttokens>=2.1.0->stack-data->ipython>=6.1.0->ipywidgets) (1.16.0)\n",
      "Downloading ipywidgets-8.1.2-py3-none-any.whl (139 kB)\n",
      "   ---------------------------------------- 0.0/139.4 kB ? eta -:--:--\n",
      "   -- ------------------------------------- 10.2/139.4 kB ? eta -:--:--\n",
      "   ----------- --------------------------- 41.0/139.4 kB 495.5 kB/s eta 0:00:01\n",
      "   ---------------------------------------- 139.4/139.4 kB 1.2 MB/s eta 0:00:00\n",
      "Downloading jupyterlab_widgets-3.0.10-py3-none-any.whl (215 kB)\n",
      "   ---------------------------------------- 0.0/215.0 kB ? eta -:--:--\n",
      "   -------------------------------- ------- 174.1/215.0 kB 5.3 MB/s eta 0:00:01\n",
      "   ---------------------------------------- 215.0/215.0 kB 3.3 MB/s eta 0:00:00\n",
      "Downloading widgetsnbextension-4.0.10-py3-none-any.whl (2.3 MB)\n",
      "   ---------------------------------------- 0.0/2.3 MB ? eta -:--:--\n",
      "   ------ --------------------------------- 0.4/2.3 MB 7.4 MB/s eta 0:00:01\n",
      "   ------------ --------------------------- 0.7/2.3 MB 7.7 MB/s eta 0:00:01\n",
      "   ------------------ --------------------- 1.1/2.3 MB 8.4 MB/s eta 0:00:01\n",
      "   ------------------ --------------------- 1.1/2.3 MB 8.4 MB/s eta 0:00:01\n",
      "   ------------------ --------------------- 1.1/2.3 MB 8.4 MB/s eta 0:00:01\n",
      "   ------------------- -------------------- 1.1/2.3 MB 3.8 MB/s eta 0:00:01\n",
      "   --------------------- ------------------ 1.2/2.3 MB 4.0 MB/s eta 0:00:01\n",
      "   --------------------- ------------------ 1.2/2.3 MB 4.0 MB/s eta 0:00:01\n",
      "   --------------------- ------------------ 1.2/2.3 MB 4.0 MB/s eta 0:00:01\n",
      "   ----------------------- ---------------- 1.4/2.3 MB 3.0 MB/s eta 0:00:01\n",
      "   ----------------------- ---------------- 1.4/2.3 MB 3.0 MB/s eta 0:00:01\n",
      "   ----------------------- ---------------- 1.4/2.3 MB 3.0 MB/s eta 0:00:01\n",
      "   -------------------------- ------------- 1.5/2.3 MB 2.5 MB/s eta 0:00:01\n",
      "   --------------------------- ------------ 1.6/2.3 MB 2.5 MB/s eta 0:00:01\n",
      "   ---------------------------- ----------- 1.6/2.3 MB 2.4 MB/s eta 0:00:01\n",
      "   ------------------------------ --------- 1.7/2.3 MB 2.3 MB/s eta 0:00:01\n",
      "   -------------------------------- ------- 1.9/2.3 MB 2.4 MB/s eta 0:00:01\n",
      "   ---------------------------------------  2.3/2.3 MB 2.7 MB/s eta 0:00:01\n",
      "   ---------------------------------------- 2.3/2.3 MB 2.6 MB/s eta 0:00:00\n",
      "Installing collected packages: widgetsnbextension, jupyterlab-widgets, ipywidgets\n",
      "Successfully installed ipywidgets-8.1.2 jupyterlab-widgets-3.0.10 widgetsnbextension-4.0.10\n",
      "Note: you may need to restart the kernel to use updated packages.\n"
     ]
    }
   ],
   "source": [
    "pip install ipywidgets"
   ]
  },
  {
   "cell_type": "markdown",
   "metadata": {
    "id": "isLWBxRRrFbc",
    "jp-MarkdownHeadingCollapsed": true
   },
   "source": [
    "## Формирование url-запроса"
   ]
  },
  {
   "cell_type": "code",
   "execution_count": 262,
   "metadata": {
    "executionInfo": {
     "elapsed": 237,
     "status": "ok",
     "timestamp": 1709985849199,
     "user": {
      "displayName": "Maxim Zinoviev",
      "userId": "03712553463271013627"
     },
     "user_tz": -180
    },
    "id": "OAdDLSG8CgAm"
   },
   "outputs": [],
   "source": [
    "# Выбираем метод из официальной документации\n",
    "method = 'friends.get'\n",
    "\n",
    "params = 'user_ids=560276504'\n",
    "\n",
    "version = '5.199'\n",
    "url = 'https://api.vk.com/method/' + method + '?' + params + '&v=' + version + '&access_token=' +  token"
   ]
  },
  {
   "cell_type": "markdown",
   "metadata": {
    "id": "isLWBxRRrFbc",
    "jp-MarkdownHeadingCollapsed": true
   },
   "source": [
    "## Получение айдишников"
   ]
  },
  {
   "cell_type": "code",
   "execution_count": 263,
   "metadata": {
    "colab": {
     "base_uri": "https://localhost:8080/"
    },
    "executionInfo": {
     "elapsed": 820,
     "status": "ok",
     "timestamp": 1709985852672,
     "user": {
      "displayName": "Maxim Zinoviev",
      "userId": "03712553463271013627"
     },
     "user_tz": -180
    },
    "id": "ckKOFz6uFwJH",
    "outputId": "70779075-3a62-445f-bc9f-c6f0a6a4ded3"
   },
   "outputs": [
    {
     "data": {
      "text/plain": [
       "{'response': {'count': 278,\n",
       "  'items': [9845,\n",
       "   46615,\n",
       "   419835,\n",
       "   931521,\n",
       "   1581895,\n",
       "   1790113,\n",
       "   3453170,\n",
       "   4317611,\n",
       "   6036613,\n",
       "   9111395,\n",
       "   15761125,\n",
       "   19342177,\n",
       "   19545542,\n",
       "   20079123,\n",
       "   20092282,\n",
       "   24381086,\n",
       "   25068762,\n",
       "   30783958,\n",
       "   31338032,\n",
       "   38132785,\n",
       "   41696422,\n",
       "   41918455,\n",
       "   47441259,\n",
       "   54886054,\n",
       "   56536852,\n",
       "   62838256,\n",
       "   63001615,\n",
       "   64968445,\n",
       "   65783127,\n",
       "   68579867,\n",
       "   72982227,\n",
       "   74585938,\n",
       "   77531889,\n",
       "   79701684,\n",
       "   86312724,\n",
       "   88640070,\n",
       "   90626817,\n",
       "   91135095,\n",
       "   92284200,\n",
       "   94028651,\n",
       "   95064298,\n",
       "   95109839,\n",
       "   95452490,\n",
       "   97499978,\n",
       "   98942775,\n",
       "   99488376,\n",
       "   107188724,\n",
       "   109735604,\n",
       "   113618554,\n",
       "   115035195,\n",
       "   117620632,\n",
       "   119380906,\n",
       "   122755810,\n",
       "   123574012,\n",
       "   124094962,\n",
       "   124619085,\n",
       "   126595924,\n",
       "   133127236,\n",
       "   133838453,\n",
       "   135075111,\n",
       "   135377591,\n",
       "   135470651,\n",
       "   135840322,\n",
       "   136037076,\n",
       "   136862595,\n",
       "   138227154,\n",
       "   138278645,\n",
       "   138394149,\n",
       "   138989961,\n",
       "   139151682,\n",
       "   139680187,\n",
       "   140818451,\n",
       "   142582488,\n",
       "   142633509,\n",
       "   143570076,\n",
       "   143966876,\n",
       "   144223097,\n",
       "   145226121,\n",
       "   145774069,\n",
       "   146454593,\n",
       "   146527727,\n",
       "   152423416,\n",
       "   152568664,\n",
       "   153174695,\n",
       "   153574575,\n",
       "   153607054,\n",
       "   154314072,\n",
       "   154937726,\n",
       "   155464755,\n",
       "   156589599,\n",
       "   157826836,\n",
       "   158671773,\n",
       "   158999194,\n",
       "   159745320,\n",
       "   160305222,\n",
       "   160333447,\n",
       "   160456462,\n",
       "   160784362,\n",
       "   162258991,\n",
       "   162822145,\n",
       "   164220900,\n",
       "   164224004,\n",
       "   164375827,\n",
       "   164572657,\n",
       "   165233352,\n",
       "   165819925,\n",
       "   167946405,\n",
       "   169161736,\n",
       "   169994569,\n",
       "   170699493,\n",
       "   171064424,\n",
       "   172746663,\n",
       "   173001013,\n",
       "   173189667,\n",
       "   173585874,\n",
       "   174400119,\n",
       "   174551844,\n",
       "   175930456,\n",
       "   177461754,\n",
       "   178035549,\n",
       "   179152388,\n",
       "   179184046,\n",
       "   179457317,\n",
       "   180406326,\n",
       "   180953039,\n",
       "   183913999,\n",
       "   184331226,\n",
       "   184633538,\n",
       "   186520453,\n",
       "   186533615,\n",
       "   186996005,\n",
       "   190114731,\n",
       "   190323107,\n",
       "   190370257,\n",
       "   190486931,\n",
       "   190869399,\n",
       "   193962591,\n",
       "   194917236,\n",
       "   196681902,\n",
       "   200806348,\n",
       "   201855224,\n",
       "   202486616,\n",
       "   203617530,\n",
       "   203777763,\n",
       "   206040032,\n",
       "   210372846,\n",
       "   211816136,\n",
       "   212048621,\n",
       "   212572487,\n",
       "   213040673,\n",
       "   213770248,\n",
       "   216268031,\n",
       "   216800184,\n",
       "   217325322,\n",
       "   218236882,\n",
       "   218876792,\n",
       "   219794238,\n",
       "   220212265,\n",
       "   220814243,\n",
       "   223132786,\n",
       "   223160742,\n",
       "   223603279,\n",
       "   224857221,\n",
       "   225925164,\n",
       "   229108913,\n",
       "   229463621,\n",
       "   232149617,\n",
       "   234180559,\n",
       "   235385378,\n",
       "   237480994,\n",
       "   241010448,\n",
       "   242056114,\n",
       "   243025297,\n",
       "   256598802,\n",
       "   257390484,\n",
       "   257827045,\n",
       "   260463878,\n",
       "   261625755,\n",
       "   262066175,\n",
       "   266573865,\n",
       "   267562482,\n",
       "   267835389,\n",
       "   268233758,\n",
       "   269728344,\n",
       "   269886110,\n",
       "   270106138,\n",
       "   270474715,\n",
       "   271202502,\n",
       "   276724612,\n",
       "   277527891,\n",
       "   278364056,\n",
       "   283245045,\n",
       "   287186282,\n",
       "   287255524,\n",
       "   288598302,\n",
       "   290202453,\n",
       "   292241197,\n",
       "   292628019,\n",
       "   294749159,\n",
       "   294766544,\n",
       "   296093265,\n",
       "   296443501,\n",
       "   297543857,\n",
       "   301850810,\n",
       "   303943594,\n",
       "   304650974,\n",
       "   305967108,\n",
       "   318879859,\n",
       "   326361135,\n",
       "   328472533,\n",
       "   329667243,\n",
       "   330888032,\n",
       "   332926393,\n",
       "   338933214,\n",
       "   352460928,\n",
       "   360101151,\n",
       "   364193276,\n",
       "   365029941,\n",
       "   366718256,\n",
       "   371059475,\n",
       "   371270909,\n",
       "   371780954,\n",
       "   372911342,\n",
       "   375769385,\n",
       "   381343956,\n",
       "   382091389,\n",
       "   382151541,\n",
       "   382588798,\n",
       "   384052950,\n",
       "   387397749,\n",
       "   387778014,\n",
       "   394984764,\n",
       "   395654124,\n",
       "   413980874,\n",
       "   416191366,\n",
       "   417911347,\n",
       "   418811071,\n",
       "   429880197,\n",
       "   438003136,\n",
       "   439503543,\n",
       "   450170377,\n",
       "   451750779,\n",
       "   464753565,\n",
       "   467221734,\n",
       "   474814138,\n",
       "   483702118,\n",
       "   490116812,\n",
       "   492671918,\n",
       "   493503811,\n",
       "   495809591,\n",
       "   496356613,\n",
       "   503963060,\n",
       "   506073571,\n",
       "   519552111,\n",
       "   519556029,\n",
       "   521424744,\n",
       "   535748658,\n",
       "   539102732,\n",
       "   549238401,\n",
       "   550123226,\n",
       "   551326318,\n",
       "   556618471,\n",
       "   561792056,\n",
       "   562410853,\n",
       "   563717701,\n",
       "   571006198,\n",
       "   587954539,\n",
       "   596403381,\n",
       "   599999955,\n",
       "   613986443,\n",
       "   634180729,\n",
       "   680019825,\n",
       "   686140890,\n",
       "   696732040,\n",
       "   698418237,\n",
       "   707675103,\n",
       "   715787807,\n",
       "   753901670]}}"
      ]
     },
     "execution_count": 263,
     "metadata": {},
     "output_type": "execute_result"
    }
   ],
   "source": [
    "response = requests.get(url)\n",
    "response.json()"
   ]
  },
  {
   "cell_type": "markdown",
   "metadata": {
    "id": "isLWBxRRrFbc",
    "jp-MarkdownHeadingCollapsed": true
   },
   "source": [
    "## Перевод json в list"
   ]
  },
  {
   "cell_type": "code",
   "execution_count": 264,
   "metadata": {},
   "outputs": [],
   "source": [
    "friend_ids = response.json()['response']['items']"
   ]
  },
  {
   "cell_type": "code",
   "execution_count": 265,
   "metadata": {},
   "outputs": [
    {
     "name": "stdout",
     "output_type": "stream",
     "text": [
      "[9845, 46615, 419835, 931521, 1581895, 1790113, 3453170, 4317611, 6036613, 9111395, 15761125, 19342177, 19545542, 20079123, 20092282, 24381086, 25068762, 30783958, 31338032, 38132785, 41696422, 41918455, 47441259, 54886054, 56536852, 62838256, 63001615, 64968445, 65783127, 68579867, 72982227, 74585938, 77531889, 79701684, 86312724, 88640070, 90626817, 91135095, 92284200, 94028651, 95064298, 95109839, 95452490, 97499978, 98942775, 99488376, 107188724, 109735604, 113618554, 115035195, 117620632, 119380906, 122755810, 123574012, 124094962, 124619085, 126595924, 133127236, 133838453, 135075111, 135377591, 135470651, 135840322, 136037076, 136862595, 138227154, 138278645, 138394149, 138989961, 139151682, 139680187, 140818451, 142582488, 142633509, 143570076, 143966876, 144223097, 145226121, 145774069, 146454593, 146527727, 152423416, 152568664, 153174695, 153574575, 153607054, 154314072, 154937726, 155464755, 156589599, 157826836, 158671773, 158999194, 159745320, 160305222, 160333447, 160456462, 160784362, 162258991, 162822145, 164220900, 164224004, 164375827, 164572657, 165233352, 165819925, 167946405, 169161736, 169994569, 170699493, 171064424, 172746663, 173001013, 173189667, 173585874, 174400119, 174551844, 175930456, 177461754, 178035549, 179152388, 179184046, 179457317, 180406326, 180953039, 183913999, 184331226, 184633538, 186520453, 186533615, 186996005, 190114731, 190323107, 190370257, 190486931, 190869399, 193962591, 194917236, 196681902, 200806348, 201855224, 202486616, 203617530, 203777763, 206040032, 210372846, 211816136, 212048621, 212572487, 213040673, 213770248, 216268031, 216800184, 217325322, 218236882, 218876792, 219794238, 220212265, 220814243, 223132786, 223160742, 223603279, 224857221, 225925164, 229108913, 229463621, 232149617, 234180559, 235385378, 237480994, 241010448, 242056114, 243025297, 256598802, 257390484, 257827045, 260463878, 261625755, 262066175, 266573865, 267562482, 267835389, 268233758, 269728344, 269886110, 270106138, 270474715, 271202502, 276724612, 277527891, 278364056, 283245045, 287186282, 287255524, 288598302, 290202453, 292241197, 292628019, 294749159, 294766544, 296093265, 296443501, 297543857, 301850810, 303943594, 304650974, 305967108, 318879859, 326361135, 328472533, 329667243, 330888032, 332926393, 338933214, 352460928, 360101151, 364193276, 365029941, 366718256, 371059475, 371270909, 371780954, 372911342, 375769385, 381343956, 382091389, 382151541, 382588798, 384052950, 387397749, 387778014, 394984764, 395654124, 413980874, 416191366, 417911347, 418811071, 429880197, 438003136, 439503543, 450170377, 451750779, 464753565, 467221734, 474814138, 483702118, 490116812, 492671918, 493503811, 495809591, 496356613, 503963060, 506073571, 519552111, 519556029, 521424744, 535748658, 539102732, 549238401, 550123226, 551326318, 556618471, 561792056, 562410853, 563717701, 571006198, 587954539, 596403381, 599999955, 613986443, 634180729, 680019825, 686140890, 696732040, 698418237, 707675103, 715787807, 753901670]\n"
     ]
    }
   ],
   "source": [
    "print(friend_ids)"
   ]
  },
  {
   "cell_type": "markdown",
   "metadata": {
    "id": "isLWBxRRrFbc",
    "jp-MarkdownHeadingCollapsed": true
   },
   "source": [
    "## Перевод list в string"
   ]
  },
  {
   "cell_type": "code",
   "execution_count": 266,
   "metadata": {},
   "outputs": [],
   "source": [
    "# Переведем список чисел в строку с разделением запятой\n",
    "friend_ids = ','.join(map(str, friend_ids))"
   ]
  },
  {
   "cell_type": "markdown",
   "metadata": {
    "jp-MarkdownHeadingCollapsed": true
   },
   "source": [
    "## Создадим для удобства функцию **my_vk_api(method, user_ids, fields)**"
   ]
  },
  {
   "cell_type": "code",
   "execution_count": 15,
   "metadata": {},
   "outputs": [],
   "source": [
    "def my_vk_api(method, user_ids, fields):\n",
    "    version = '5.199'\n",
    "    url = 'https://api.vk.com/method/' + method + '?' +'user_ids=' + user_ids + '&fields=' + fields + '&v=' + version + '&access_token=' +  token\n",
    "    response = requests.get(url)\n",
    "    return response.json()['response']"
   ]
  },
  {
   "cell_type": "markdown",
   "metadata": {
    "jp-MarkdownHeadingCollapsed": true
   },
   "source": [
    "## Протестируем функцию сразу в бою\n",
    "Узнаем пол всех моих друзей"
   ]
  },
  {
   "cell_type": "code",
   "execution_count": 268,
   "metadata": {},
   "outputs": [],
   "source": [
    "friends_sex_raw = my_vk_api('users.get', friend_ids, 'sex')"
   ]
  },
  {
   "cell_type": "markdown",
   "metadata": {
    "jp-MarkdownHeadingCollapsed": true
   },
   "source": [
    "Работает)"
   ]
  },
  {
   "cell_type": "markdown",
   "metadata": {
    "jp-MarkdownHeadingCollapsed": true
   },
   "source": [
    "## Теперь надо преобразовать json в Pandas DataFrame"
   ]
  },
  {
   "cell_type": "code",
   "execution_count": 269,
   "metadata": {},
   "outputs": [
    {
     "name": "stdout",
     "output_type": "stream",
     "text": [
      "[{'id': 9845, 'sex': 2, 'first_name': 'Александр', 'last_name': 'Бобриков', 'can_access_closed': True, 'is_closed': False}, {'id': 46615, 'sex': 2, 'first_name': 'Антон', 'last_name': 'Мандрик', 'can_access_closed': True, 'is_closed': False}, {'id': 419835, 'sex': 2, 'first_name': 'Михаил', 'last_name': 'Вальковский', 'can_access_closed': True, 'is_closed': False}, {'id': 931521, 'sex': 2, 'first_name': 'Роман', 'last_name': 'Себекин', 'can_access_closed': True, 'is_closed': False}, {'id': 1581895, 'sex': 2, 'first_name': 'Сергей', 'last_name': 'Редько', 'can_access_closed': True, 'is_closed': False}, {'id': 1790113, 'sex': 2, 'first_name': 'Кирилл', 'last_name': 'Истомин', 'can_access_closed': True, 'is_closed': False}, {'id': 3453170, 'sex': 1, 'first_name': 'Наталия', 'last_name': 'Орел', 'can_access_closed': True, 'is_closed': False}, {'id': 4317611, 'sex': 2, 'first_name': 'Владимир', 'last_name': 'Аблязов', 'can_access_closed': True, 'is_closed': False}, {'id': 6036613, 'sex': 2, 'first_name': 'Владимир', 'last_name': 'Боровков', 'can_access_closed': True, 'is_closed': False}, {'id': 9111395, 'sex': 2, 'first_name': 'Сергей', 'last_name': 'Новиков', 'can_access_closed': True, 'is_closed': False}, {'id': 15761125, 'sex': 2, 'first_name': 'Гена', 'last_name': 'Елистратов', 'can_access_closed': True, 'is_closed': False}, {'id': 19342177, 'sex': 2, 'first_name': 'Василий', 'last_name': 'Зиновьев', 'can_access_closed': True, 'is_closed': False}, {'id': 19545542, 'sex': 2, 'first_name': 'Филипп', 'last_name': 'Позин', 'can_access_closed': True, 'is_closed': False}, {'id': 20079123, 'sex': 2, 'first_name': 'Антон', 'last_name': 'Праздничных', 'can_access_closed': True, 'is_closed': False}, {'id': 20092282, 'sex': 1, 'first_name': 'Алия', 'last_name': 'Мельник', 'can_access_closed': True, 'is_closed': True}, {'id': 24381086, 'sex': 1, 'first_name': 'Анастасия', 'last_name': 'Истомина', 'can_access_closed': True, 'is_closed': False}, {'id': 25068762, 'sex': 2, 'first_name': 'Вячеслав', 'last_name': 'Бураков', 'can_access_closed': True, 'is_closed': False}, {'id': 30783958, 'sex': 1, 'first_name': 'Марина', 'last_name': 'Федорова', 'can_access_closed': True, 'is_closed': False}, {'id': 31338032, 'sex': 2, 'first_name': 'Михаил', 'last_name': 'Журавлёв', 'can_access_closed': True, 'is_closed': False}, {'id': 38132785, 'sex': 2, 'first_name': 'Николай', 'last_name': 'Телятников', 'can_access_closed': True, 'is_closed': False}, {'id': 41696422, 'sex': 2, 'first_name': 'Тимофей', 'last_name': 'Морозов', 'can_access_closed': True, 'is_closed': False}, {'id': 41918455, 'sex': 1, 'first_name': 'Юлия', 'last_name': 'Алексеева', 'can_access_closed': True, 'is_closed': False}, {'id': 47441259, 'sex': 2, 'first_name': 'Андрей', 'last_name': 'Иванов', 'can_access_closed': True, 'is_closed': False}, {'id': 54886054, 'sex': 2, 'first_name': 'Никита', 'last_name': 'Чиров', 'can_access_closed': True, 'is_closed': False}, {'id': 56536852, 'sex': 2, 'first_name': 'Максим', 'last_name': 'Коваленко', 'can_access_closed': True, 'is_closed': False}, {'id': 62838256, 'sex': 2, 'first_name': 'Максим', 'last_name': 'Ридаль', 'can_access_closed': True, 'is_closed': False}, {'id': 63001615, 'sex': 1, 'first_name': 'Катерина', 'last_name': 'Кашицына', 'can_access_closed': True, 'is_closed': False}, {'id': 64968445, 'sex': 2, 'first_name': 'Александр', 'last_name': 'Зубин', 'can_access_closed': True, 'is_closed': False}, {'id': 65783127, 'sex': 2, 'first_name': 'Владислав', 'last_name': 'Черненко', 'can_access_closed': True, 'is_closed': True}, {'id': 68579867, 'sex': 2, 'first_name': 'Даниил', 'last_name': 'Червяков', 'can_access_closed': True, 'is_closed': False}, {'id': 72982227, 'sex': 2, 'first_name': 'Влад', 'last_name': 'Дудов', 'can_access_closed': True, 'is_closed': True}, {'id': 74585938, 'sex': 1, 'first_name': 'Настя', 'last_name': 'Павлова', 'can_access_closed': True, 'is_closed': False}, {'id': 77531889, 'sex': 1, 'first_name': 'Саша', 'last_name': 'Шарикова', 'can_access_closed': True, 'is_closed': False}, {'id': 79701684, 'sex': 2, 'first_name': 'Михаил', 'last_name': 'Карпов', 'can_access_closed': True, 'is_closed': False}, {'id': 86312724, 'sex': 2, 'first_name': 'Виталий', 'last_name': 'Дмитриев', 'can_access_closed': True, 'is_closed': True}, {'id': 88640070, 'sex': 1, 'first_name': 'Анна', 'last_name': 'Арефьева', 'can_access_closed': True, 'is_closed': False}, {'id': 90626817, 'sex': 2, 'first_name': 'Андрей', 'last_name': 'Корнеев', 'can_access_closed': True, 'is_closed': False}, {'id': 91135095, 'sex': 1, 'first_name': 'Наталья', 'last_name': 'Красникова', 'can_access_closed': True, 'is_closed': True}, {'id': 92284200, 'sex': 1, 'first_name': 'Анастасия', 'last_name': 'Амелина', 'can_access_closed': True, 'is_closed': False}, {'id': 94028651, 'sex': 1, 'first_name': 'Полина', 'last_name': 'Лебедева', 'can_access_closed': True, 'is_closed': False}, {'id': 95064298, 'sex': 2, 'first_name': 'Даниил', 'last_name': 'Солуянов', 'can_access_closed': True, 'is_closed': False}, {'id': 95109839, 'sex': 1, 'first_name': 'Олеся', 'last_name': 'Чекмарёва', 'can_access_closed': True, 'is_closed': False}, {'id': 95452490, 'sex': 1, 'first_name': 'Алёна', 'last_name': 'Ларкина', 'can_access_closed': True, 'is_closed': False}, {'id': 97499978, 'sex': 2, 'first_name': 'Андрей', 'last_name': 'Зубков', 'can_access_closed': True, 'is_closed': False}, {'id': 98942775, 'sex': 2, 'first_name': 'Артем', 'last_name': 'Захаров', 'can_access_closed': True, 'is_closed': False}, {'id': 99488376, 'sex': 1, 'first_name': 'Карина', 'last_name': 'Каримова', 'can_access_closed': True, 'is_closed': True}, {'id': 107188724, 'sex': 2, 'first_name': 'Григорий', 'last_name': 'Форинный', 'can_access_closed': True, 'is_closed': False}, {'id': 109735604, 'sex': 2, 'first_name': 'Евген', 'last_name': 'Яценко', 'can_access_closed': True, 'is_closed': False}, {'id': 113618554, 'sex': 2, 'first_name': 'Серёджа', 'last_name': 'Мельников', 'can_access_closed': True, 'is_closed': False}, {'id': 115035195, 'sex': 2, 'first_name': 'Степан', 'last_name': 'Колле', 'can_access_closed': True, 'is_closed': True}, {'id': 117620632, 'sex': 1, 'first_name': 'Марьям', 'last_name': 'Асророва', 'can_access_closed': True, 'is_closed': False}, {'id': 119380906, 'sex': 1, 'first_name': 'Лия', 'last_name': 'Хабибуллина', 'can_access_closed': True, 'is_closed': False}, {'id': 122755810, 'sex': 1, 'first_name': 'Юля', 'last_name': 'Яковлева', 'can_access_closed': True, 'is_closed': False}, {'id': 123574012, 'sex': 1, 'first_name': 'Анастасия', 'last_name': 'Михайлецкая', 'can_access_closed': True, 'is_closed': False}, {'id': 124094962, 'sex': 1, 'first_name': 'Оля', 'last_name': 'Грекова', 'can_access_closed': True, 'is_closed': False}, {'id': 124619085, 'sex': 1, 'first_name': 'Полина', 'last_name': 'Карпухина', 'can_access_closed': True, 'is_closed': False}, {'id': 126595924, 'sex': 2, 'first_name': 'Дмитрий', 'last_name': 'Бастраков', 'can_access_closed': True, 'is_closed': False}, {'id': 133127236, 'sex': 1, 'first_name': 'Анна', 'last_name': 'Аксёнова', 'can_access_closed': True, 'is_closed': False}, {'id': 133838453, 'sex': 1, 'first_name': 'Darya', 'last_name': 'Moiseeva', 'can_access_closed': True, 'is_closed': False}, {'id': 135075111, 'sex': 2, 'first_name': 'Имя', 'last_name': 'Фамилия', 'can_access_closed': True, 'is_closed': False}, {'id': 135377591, 'sex': 2, 'first_name': 'Ярослав', 'last_name': 'Саматов', 'can_access_closed': True, 'is_closed': False}, {'id': 135470651, 'sex': 2, 'first_name': 'Егор', 'last_name': 'Бредихин', 'can_access_closed': True, 'is_closed': False}, {'id': 135840322, 'sex': 2, 'first_name': 'Тимми', 'last_name': 'Багрецов', 'can_access_closed': True, 'is_closed': False}, {'id': 136037076, 'sex': 2, 'first_name': 'Павел', 'last_name': 'Воронов', 'can_access_closed': True, 'is_closed': True}, {'id': 136862595, 'sex': 2, 'first_name': 'Глеб', 'last_name': 'Никитин', 'can_access_closed': True, 'is_closed': False}, {'id': 138227154, 'sex': 2, 'first_name': 'Владимир', 'last_name': 'Дымченко', 'can_access_closed': True, 'is_closed': False}, {'id': 138278645, 'sex': 1, 'first_name': 'Екатерина', 'last_name': 'Комлева', 'can_access_closed': True, 'is_closed': False}, {'id': 138394149, 'sex': 2, 'first_name': 'Арсений', 'last_name': 'Ярмолинский', 'can_access_closed': True, 'is_closed': False}, {'id': 138989961, 'sex': 2, 'first_name': 'Евгений', 'last_name': 'Тощаков', 'can_access_closed': True, 'is_closed': False}, {'id': 139151682, 'sex': 1, 'first_name': 'Полина', 'last_name': 'Белоглазова', 'can_access_closed': True, 'is_closed': False}, {'id': 139680187, 'sex': 2, 'first_name': 'Миша', 'last_name': 'Михеев', 'can_access_closed': True, 'is_closed': False}, {'id': 140818451, 'sex': 2, 'first_name': 'Игорь', 'last_name': 'Зиновьев', 'can_access_closed': True, 'is_closed': True}, {'id': 142582488, 'sex': 1, 'first_name': 'Елена', 'last_name': 'Шадьярова', 'can_access_closed': True, 'is_closed': True}, {'id': 142633509, 'sex': 2, 'first_name': 'Данил', 'last_name': 'Ашихманов', 'can_access_closed': True, 'is_closed': False}, {'id': 143570076, 'sex': 2, 'first_name': 'Никита', 'last_name': 'Гордеев', 'can_access_closed': True, 'is_closed': False}, {'id': 143966876, 'sex': 1, 'first_name': 'Настя', 'last_name': 'Фатикова', 'can_access_closed': True, 'is_closed': False}, {'id': 144223097, 'sex': 2, 'first_name': 'Владимир', 'last_name': 'Суворов', 'can_access_closed': True, 'is_closed': True}, {'id': 145226121, 'sex': 1, 'first_name': 'Виктория', 'last_name': 'Неймышева', 'can_access_closed': True, 'is_closed': False}, {'id': 145774069, 'sex': 1, 'first_name': 'Екатерина', 'last_name': 'Супрун', 'can_access_closed': True, 'is_closed': False}, {'id': 146454593, 'sex': 1, 'first_name': 'Полина', 'last_name': 'Корякина', 'can_access_closed': True, 'is_closed': False}, {'id': 146527727, 'sex': 1, 'first_name': 'Надежда', 'last_name': 'Шиянова', 'can_access_closed': True, 'is_closed': True}, {'id': 152423416, 'sex': 1, 'first_name': 'Кристина', 'last_name': 'Уварова', 'can_access_closed': True, 'is_closed': False}, {'id': 152568664, 'sex': 2, 'first_name': 'Дмитрий', 'last_name': 'Зуев', 'can_access_closed': True, 'is_closed': False}, {'id': 153174695, 'sex': 2, 'first_name': 'Егор', 'last_name': 'Сечинский', 'can_access_closed': True, 'is_closed': True}, {'id': 153574575, 'sex': 2, 'first_name': 'Рома', 'last_name': 'Шошин', 'can_access_closed': True, 'is_closed': False}, {'id': 153607054, 'sex': 2, 'first_name': 'Антон', 'last_name': 'Маркаров', 'can_access_closed': True, 'is_closed': False}, {'id': 154314072, 'sex': 1, 'first_name': 'Дана', 'last_name': 'Супакова', 'can_access_closed': True, 'is_closed': False}, {'id': 154937726, 'sex': 2, 'first_name': 'Матвей', 'last_name': 'Пришибилович', 'can_access_closed': True, 'is_closed': True}, {'id': 155464755, 'sex': 1, 'first_name': 'Людмила', 'last_name': 'Попова', 'can_access_closed': True, 'is_closed': False}, {'id': 156589599, 'sex': 2, 'first_name': 'Tim', 'last_name': 'Iurov', 'can_access_closed': True, 'is_closed': False}, {'id': 157826836, 'sex': 1, 'first_name': 'Екатерина', 'last_name': 'Митюшникова', 'can_access_closed': True, 'is_closed': False}, {'id': 158671773, 'sex': 1, 'first_name': 'Юлия', 'last_name': 'Бачковская', 'can_access_closed': True, 'is_closed': False}, {'id': 158999194, 'sex': 1, 'first_name': 'Александра', 'last_name': 'Ожог', 'can_access_closed': True, 'is_closed': False}, {'id': 159745320, 'sex': 2, 'first_name': 'Кирилл', 'last_name': 'Сазыкин', 'can_access_closed': True, 'is_closed': True}, {'id': 160305222, 'sex': 1, 'first_name': 'София', 'last_name': 'Пичул', 'can_access_closed': True, 'is_closed': False}, {'id': 160333447, 'sex': 1, 'first_name': 'Ксения', 'last_name': 'Назарова', 'can_access_closed': True, 'is_closed': False}, {'id': 160456462, 'sex': 2, 'first_name': 'Александр', 'last_name': 'Балабин', 'can_access_closed': True, 'is_closed': False}, {'id': 160784362, 'sex': 2, 'first_name': 'Станислав', 'last_name': 'Богданов', 'can_access_closed': True, 'is_closed': False}, {'id': 162258991, 'sex': 2, 'first_name': 'Тимур', 'last_name': 'Бабаев', 'can_access_closed': True, 'is_closed': False}, {'id': 162822145, 'sex': 2, 'first_name': 'Rustam', 'last_name': 'Kushatov', 'can_access_closed': True, 'is_closed': False}, {'id': 164220900, 'sex': 1, 'first_name': 'Ирина', 'last_name': 'Фазлиева', 'can_access_closed': True, 'is_closed': True}, {'id': 164224004, 'sex': 2, 'first_name': 'Антон', 'last_name': 'Кудряшов', 'can_access_closed': True, 'is_closed': False}, {'id': 164375827, 'sex': 2, 'first_name': 'Макс', 'last_name': 'Радченко', 'can_access_closed': True, 'is_closed': False}, {'id': 164572657, 'sex': 2, 'first_name': 'Данил', 'last_name': 'Аксёнов', 'can_access_closed': True, 'is_closed': True}, {'id': 165233352, 'sex': 1, 'first_name': 'Ангелина', 'last_name': 'Куланова', 'can_access_closed': True, 'is_closed': False}, {'id': 165819925, 'sex': 1, 'first_name': 'Екатерина', 'last_name': 'Белоусова', 'can_access_closed': True, 'is_closed': True}, {'id': 167946405, 'sex': 2, 'first_name': 'Степан', 'last_name': 'Калабанов', 'can_access_closed': True, 'is_closed': False}, {'id': 169161736, 'sex': 1, 'first_name': 'Наташа', 'last_name': 'Поташина', 'can_access_closed': True, 'is_closed': False}, {'id': 169994569, 'sex': 2, 'deactivated': 'deleted', 'first_name': 'DELETED', 'last_name': '', 'can_access_closed': True, 'is_closed': True}, {'id': 170699493, 'sex': 2, 'first_name': 'Егор', 'last_name': 'Акимов', 'can_access_closed': True, 'is_closed': False}, {'id': 171064424, 'sex': 2, 'first_name': 'Прохор', 'last_name': 'Яковлев', 'can_access_closed': True, 'is_closed': False}, {'id': 172746663, 'sex': 2, 'first_name': 'Максим', 'last_name': 'Смоляков', 'can_access_closed': True, 'is_closed': True}, {'id': 173001013, 'sex': 2, 'first_name': 'Андрей', 'last_name': 'Искандеров', 'can_access_closed': True, 'is_closed': False}, {'id': 173189667, 'sex': 2, 'first_name': 'Тимур', 'last_name': 'Ниязгулов', 'can_access_closed': True, 'is_closed': False}, {'id': 173585874, 'sex': 2, 'first_name': 'Даниил', 'last_name': 'Кесарев', 'can_access_closed': True, 'is_closed': False}, {'id': 174400119, 'sex': 1, 'first_name': 'Anya', 'last_name': 'Rozmetova', 'can_access_closed': True, 'is_closed': True}, {'id': 174551844, 'sex': 2, 'first_name': 'Иванчела', 'last_name': 'Корецкий', 'can_access_closed': True, 'is_closed': False}, {'id': 175930456, 'sex': 1, 'first_name': 'Ольга', 'last_name': 'Манцерова', 'can_access_closed': True, 'is_closed': False}, {'id': 177461754, 'sex': 1, 'first_name': 'Анастасия', 'last_name': 'Рукавина', 'can_access_closed': True, 'is_closed': False}, {'id': 178035549, 'sex': 2, 'first_name': 'Артём', 'last_name': 'Нигматулин', 'can_access_closed': True, 'is_closed': False}, {'id': 179152388, 'sex': 1, 'first_name': 'Анастасия', 'last_name': 'Терновская', 'can_access_closed': True, 'is_closed': True}, {'id': 179184046, 'sex': 1, 'first_name': 'Анастасия', 'last_name': 'Перминова', 'can_access_closed': True, 'is_closed': False}, {'id': 179457317, 'sex': 2, 'first_name': 'Александр', 'last_name': 'Кудинов', 'can_access_closed': True, 'is_closed': False}, {'id': 180406326, 'sex': 2, 'first_name': 'Алексей', 'last_name': 'Вотинцев', 'can_access_closed': True, 'is_closed': True}, {'id': 180953039, 'sex': 2, 'first_name': 'Андрей', 'last_name': 'Бугаков', 'can_access_closed': True, 'is_closed': False}, {'id': 183913999, 'sex': 2, 'first_name': 'Евгений', 'last_name': 'Полтанов', 'can_access_closed': True, 'is_closed': False}, {'id': 184331226, 'sex': 2, 'first_name': 'Максим', 'last_name': 'Грузин', 'can_access_closed': True, 'is_closed': False}, {'id': 184633538, 'sex': 2, 'first_name': 'Игорь', 'last_name': 'Ванденко', 'can_access_closed': True, 'is_closed': False}, {'id': 186520453, 'sex': 1, 'first_name': 'Юля', 'last_name': 'Богатова', 'can_access_closed': True, 'is_closed': False}, {'id': 186533615, 'sex': 1, 'first_name': 'Татьяна', 'last_name': 'Осипчук', 'can_access_closed': True, 'is_closed': True}, {'id': 186996005, 'sex': 2, 'first_name': 'Раджаб', 'last_name': 'Алиханов', 'can_access_closed': True, 'is_closed': False}, {'id': 190114731, 'sex': 2, 'first_name': 'Валентин', 'last_name': 'Самойлов', 'can_access_closed': True, 'is_closed': False}, {'id': 190323107, 'sex': 1, 'first_name': 'Ксения', 'last_name': 'Хлусова', 'can_access_closed': True, 'is_closed': False}, {'id': 190370257, 'sex': 1, 'first_name': 'Анна', 'last_name': 'Акатьева', 'can_access_closed': True, 'is_closed': True}, {'id': 190486931, 'sex': 2, 'first_name': 'Иван', 'last_name': 'Громов', 'can_access_closed': True, 'is_closed': False}, {'id': 190869399, 'sex': 1, 'first_name': 'Валентина', 'last_name': 'Усалимова', 'can_access_closed': True, 'is_closed': False}, {'id': 193962591, 'sex': 2, 'first_name': 'Паша', 'last_name': 'Ланин', 'can_access_closed': True, 'is_closed': True}, {'id': 194917236, 'sex': 1, 'first_name': 'Лиза', 'last_name': 'Бродина', 'can_access_closed': True, 'is_closed': False}, {'id': 196681902, 'sex': 1, 'first_name': 'Наталья', 'last_name': 'Малютина-Шведова', 'can_access_closed': True, 'is_closed': False}, {'id': 200806348, 'sex': 2, 'first_name': 'Ярослав', 'last_name': 'Спасенков', 'can_access_closed': True, 'is_closed': False}, {'id': 201855224, 'sex': 2, 'first_name': 'Миша', 'last_name': 'Кондратьев', 'can_access_closed': True, 'is_closed': False}, {'id': 202486616, 'sex': 2, 'first_name': 'Даниэль', 'last_name': 'Ягофаров', 'can_access_closed': True, 'is_closed': True}, {'id': 203617530, 'sex': 1, 'first_name': 'Валентина', 'last_name': 'Родина', 'can_access_closed': True, 'is_closed': False}, {'id': 203777763, 'sex': 2, 'first_name': 'Александр', 'last_name': 'Карандашев', 'can_access_closed': True, 'is_closed': False}, {'id': 206040032, 'sex': 2, 'first_name': 'Дмитрий', 'last_name': 'Гальчинский', 'can_access_closed': True, 'is_closed': True}, {'id': 210372846, 'sex': 1, 'first_name': 'Ксения', 'last_name': 'Филиппская', 'can_access_closed': True, 'is_closed': False}, {'id': 211816136, 'sex': 2, 'first_name': 'Владислав', 'last_name': 'Бабанин', 'can_access_closed': True, 'is_closed': False}, {'id': 212048621, 'sex': 2, 'first_name': 'Алексей', 'last_name': 'Левин', 'can_access_closed': True, 'is_closed': False}, {'id': 212572487, 'sex': 2, 'first_name': 'Олег', 'last_name': 'Анин', 'can_access_closed': True, 'is_closed': False}, {'id': 213040673, 'sex': 2, 'first_name': 'Булат', 'last_name': 'Зарипов', 'can_access_closed': True, 'is_closed': False}, {'id': 213770248, 'sex': 1, 'first_name': 'Алена', 'last_name': 'Подорожник', 'can_access_closed': True, 'is_closed': False}, {'id': 216268031, 'sex': 2, 'first_name': 'Александр', 'last_name': 'Ждан', 'can_access_closed': True, 'is_closed': False}, {'id': 216800184, 'sex': 2, 'first_name': 'Георгий', 'last_name': 'Канунников', 'can_access_closed': True, 'is_closed': False}, {'id': 217325322, 'sex': 1, 'first_name': 'Ксения', 'last_name': 'Красникова', 'can_access_closed': True, 'is_closed': False}, {'id': 218236882, 'sex': 1, 'first_name': 'Валерия', 'last_name': 'Шагойко', 'can_access_closed': True, 'is_closed': False}, {'id': 218876792, 'sex': 1, 'first_name': 'Вероника', 'last_name': 'Иванова', 'can_access_closed': True, 'is_closed': False}, {'id': 219794238, 'sex': 1, 'first_name': 'Влада', 'last_name': 'Балухтина', 'can_access_closed': True, 'is_closed': False}, {'id': 220212265, 'sex': 2, 'first_name': 'Влад', 'last_name': 'Угрюмов', 'can_access_closed': True, 'is_closed': False}, {'id': 220814243, 'sex': 1, 'first_name': 'Диана', 'last_name': 'Дьяченко', 'can_access_closed': True, 'is_closed': False}, {'id': 223132786, 'sex': 2, 'first_name': 'Влад', 'last_name': 'Дряпочко', 'can_access_closed': True, 'is_closed': False}, {'id': 223160742, 'sex': 2, 'first_name': 'Дмитрий', 'last_name': 'Чубченко', 'can_access_closed': True, 'is_closed': False}, {'id': 223603279, 'sex': 2, 'first_name': 'Юрий', 'last_name': 'Чекмарев', 'can_access_closed': True, 'is_closed': False}, {'id': 224857221, 'sex': 2, 'first_name': 'Фёдор', 'last_name': 'Семёнов', 'can_access_closed': True, 'is_closed': False}, {'id': 225925164, 'sex': 2, 'first_name': 'Семён', 'last_name': 'Шестаков', 'can_access_closed': True, 'is_closed': False}, {'id': 229108913, 'sex': 1, 'first_name': 'Мария', 'last_name': 'Тужилина', 'can_access_closed': True, 'is_closed': False}, {'id': 229463621, 'sex': 1, 'first_name': 'Мария', 'last_name': 'Зайцева', 'can_access_closed': True, 'is_closed': False}, {'id': 232149617, 'sex': 2, 'first_name': 'Кореспондент', 'last_name': 'Ада', 'can_access_closed': True, 'is_closed': False}, {'id': 234180559, 'sex': 2, 'first_name': 'Илья', 'last_name': 'Гаврилов', 'can_access_closed': True, 'is_closed': False}, {'id': 235385378, 'sex': 2, 'first_name': 'Никита', 'last_name': 'Ким', 'can_access_closed': True, 'is_closed': False}, {'id': 237480994, 'sex': 2, 'first_name': 'Валентин', 'last_name': 'Алешин', 'can_access_closed': True, 'is_closed': False}, {'id': 241010448, 'sex': 2, 'first_name': 'Георгий', 'last_name': 'Муха', 'can_access_closed': True, 'is_closed': False}, {'id': 242056114, 'sex': 2, 'first_name': 'Андрей', 'last_name': 'Авакумов', 'can_access_closed': True, 'is_closed': False}, {'id': 243025297, 'sex': 1, 'first_name': 'Анна', 'last_name': 'Касаткина', 'can_access_closed': True, 'is_closed': False}, {'id': 256598802, 'sex': 2, 'first_name': 'Капитон', 'last_name': 'Поспелов', 'can_access_closed': True, 'is_closed': False}, {'id': 257390484, 'sex': 2, 'first_name': 'Григорий', 'last_name': 'Короленко', 'can_access_closed': True, 'is_closed': False}, {'id': 257827045, 'sex': 1, 'first_name': 'Светозара', 'last_name': 'Герасимова', 'can_access_closed': True, 'is_closed': False}, {'id': 260463878, 'sex': 2, 'first_name': 'Андрей', 'last_name': 'Шнайдер', 'can_access_closed': True, 'is_closed': True}, {'id': 261625755, 'sex': 1, 'first_name': 'Светлана', 'last_name': 'Корнеева', 'can_access_closed': True, 'is_closed': False}, {'id': 262066175, 'sex': 2, 'first_name': 'Антон', 'last_name': 'Максютин', 'can_access_closed': True, 'is_closed': False}, {'id': 266573865, 'sex': 1, 'first_name': 'Елизавета', 'last_name': 'Селиванова', 'can_access_closed': True, 'is_closed': False}, {'id': 267562482, 'sex': 1, 'first_name': 'Аня', 'last_name': 'Корешкова', 'can_access_closed': True, 'is_closed': False}, {'id': 267835389, 'sex': 2, 'first_name': 'Николай', 'last_name': 'Усалимов', 'can_access_closed': True, 'is_closed': False}, {'id': 268233758, 'sex': 2, 'first_name': 'Иван', 'last_name': 'Коваленко', 'can_access_closed': True, 'is_closed': False}, {'id': 269728344, 'sex': 2, 'first_name': 'Яков', 'last_name': 'Данилов', 'can_access_closed': True, 'is_closed': False}, {'id': 269886110, 'sex': 2, 'first_name': 'Эмиль', 'last_name': 'Зиляев', 'can_access_closed': True, 'is_closed': True}, {'id': 270106138, 'sex': 1, 'first_name': 'Мадина', 'last_name': 'Халматова', 'can_access_closed': True, 'is_closed': False}, {'id': 270474715, 'sex': 2, 'first_name': 'Дмитрий', 'last_name': 'Михеев', 'can_access_closed': True, 'is_closed': True}, {'id': 271202502, 'sex': 1, 'first_name': 'Анна', 'last_name': 'Рябова', 'can_access_closed': True, 'is_closed': False}, {'id': 276724612, 'sex': 2, 'first_name': 'Семён', 'last_name': 'Печёнкин', 'can_access_closed': True, 'is_closed': False}, {'id': 277527891, 'sex': 2, 'first_name': 'Игорь', 'last_name': 'Гаврильченко', 'can_access_closed': True, 'is_closed': False}, {'id': 278364056, 'sex': 2, 'first_name': 'Иван', 'last_name': 'Вавулин', 'can_access_closed': True, 'is_closed': False}, {'id': 283245045, 'sex': 2, 'first_name': 'Рафаэль', 'last_name': 'Ягофаров', 'can_access_closed': True, 'is_closed': False}, {'id': 287186282, 'sex': 1, 'first_name': 'Елизавета', 'last_name': 'Учанева', 'can_access_closed': True, 'is_closed': False}, {'id': 287255524, 'sex': 1, 'first_name': 'Маргарита', 'last_name': 'Оганова', 'can_access_closed': True, 'is_closed': False}, {'id': 288598302, 'sex': 2, 'first_name': 'Евгений', 'last_name': 'Осипов', 'can_access_closed': True, 'is_closed': True}, {'id': 290202453, 'sex': 1, 'deactivated': 'banned', 'first_name': 'Алина', 'last_name': 'Кучеряева', 'can_access_closed': True, 'is_closed': False}, {'id': 292241197, 'sex': 1, 'first_name': 'Олеся', 'last_name': 'Ефремова', 'can_access_closed': True, 'is_closed': False}, {'id': 292628019, 'sex': 1, 'first_name': 'Оля', 'last_name': 'Ковалева', 'can_access_closed': True, 'is_closed': False}, {'id': 294749159, 'sex': 2, 'first_name': 'Никита', 'last_name': 'Киян', 'can_access_closed': True, 'is_closed': False}, {'id': 294766544, 'sex': 2, 'first_name': 'Rodya', 'last_name': 'Nikifor', 'can_access_closed': True, 'is_closed': False}, {'id': 296093265, 'sex': 2, 'first_name': 'Олег', 'last_name': 'Зубков', 'can_access_closed': True, 'is_closed': True}, {'id': 296443501, 'sex': 1, 'first_name': 'Лариса', 'last_name': 'Мусиенко', 'can_access_closed': True, 'is_closed': False}, {'id': 297543857, 'sex': 2, 'first_name': 'Михаил', 'last_name': 'Коржов', 'can_access_closed': True, 'is_closed': False}, {'id': 301850810, 'sex': 1, 'first_name': 'Анастасия', 'last_name': 'Чекмарёва', 'can_access_closed': True, 'is_closed': False}, {'id': 303943594, 'sex': 1, 'first_name': 'Алина', 'last_name': 'Малютина', 'can_access_closed': True, 'is_closed': False}, {'id': 304650974, 'sex': 2, 'first_name': 'Александр', 'last_name': 'Засинец', 'can_access_closed': True, 'is_closed': False}, {'id': 305967108, 'sex': 2, 'first_name': 'Сергей', 'last_name': 'Никольский', 'can_access_closed': True, 'is_closed': False}, {'id': 318879859, 'sex': 1, 'first_name': 'Кристина', 'last_name': 'Райт', 'can_access_closed': True, 'is_closed': True}, {'id': 326361135, 'sex': 2, 'first_name': 'Максим', 'last_name': 'Баженов', 'can_access_closed': True, 'is_closed': False}, {'id': 328472533, 'sex': 1, 'first_name': 'Елизавета', 'last_name': 'Терещенко', 'can_access_closed': True, 'is_closed': False}, {'id': 329667243, 'sex': 2, 'first_name': 'Кирилл', 'last_name': 'Комаров', 'can_access_closed': True, 'is_closed': False}, {'id': 330888032, 'sex': 1, 'first_name': 'Юлия', 'last_name': 'Шамшурина', 'can_access_closed': True, 'is_closed': False}, {'id': 332926393, 'sex': 2, 'first_name': 'Марат', 'last_name': 'Годжиев', 'can_access_closed': True, 'is_closed': False}, {'id': 338933214, 'sex': 2, 'first_name': 'Константин', 'last_name': 'Колосов', 'can_access_closed': True, 'is_closed': False}, {'id': 352460928, 'sex': 2, 'first_name': 'Дима', 'last_name': 'Гера', 'can_access_closed': True, 'is_closed': False}, {'id': 360101151, 'sex': 1, 'first_name': 'Светлана', 'last_name': 'Красникова', 'can_access_closed': True, 'is_closed': True}, {'id': 364193276, 'sex': 2, 'first_name': 'Слава', 'last_name': 'Владыкин', 'can_access_closed': True, 'is_closed': False}, {'id': 365029941, 'sex': 1, 'first_name': 'Женя', 'last_name': 'Долгалева', 'can_access_closed': True, 'is_closed': False}, {'id': 366718256, 'sex': 1, 'first_name': 'Лада', 'last_name': 'Аулова', 'can_access_closed': True, 'is_closed': False}, {'id': 371059475, 'sex': 2, 'first_name': 'Асад', 'last_name': 'Сотимов', 'can_access_closed': True, 'is_closed': False}, {'id': 371270909, 'sex': 2, 'first_name': 'Сергей', 'last_name': 'Тырылгин', 'can_access_closed': True, 'is_closed': False}, {'id': 371780954, 'sex': 1, 'first_name': 'Никита', 'last_name': 'Шиянов', 'can_access_closed': True, 'is_closed': False}, {'id': 372911342, 'sex': 2, 'first_name': 'Алексей', 'last_name': 'Головченко', 'can_access_closed': True, 'is_closed': False}, {'id': 375769385, 'sex': 1, 'first_name': 'Olesya', 'last_name': 'Kosinova', 'can_access_closed': True, 'is_closed': False}, {'id': 381343956, 'sex': 1, 'first_name': 'Раиса', 'last_name': 'Шведова', 'can_access_closed': True, 'is_closed': False}, {'id': 382091389, 'sex': 2, 'first_name': 'Михаил', 'last_name': 'Такмаков', 'can_access_closed': True, 'is_closed': True}, {'id': 382151541, 'sex': 2, 'first_name': 'Илья', 'last_name': 'Зиновьев', 'can_access_closed': True, 'is_closed': False}, {'id': 382588798, 'sex': 1, 'first_name': 'Татьяна', 'last_name': 'Бурашникова', 'can_access_closed': True, 'is_closed': False}, {'id': 384052950, 'sex': 1, 'first_name': 'Вероника', 'last_name': 'Федорова', 'can_access_closed': True, 'is_closed': False}, {'id': 387397749, 'sex': 2, 'first_name': 'Глеб', 'last_name': 'Вегера', 'can_access_closed': True, 'is_closed': False}, {'id': 387778014, 'sex': 2, 'first_name': 'Ярослав', 'last_name': 'Приказчиков', 'can_access_closed': True, 'is_closed': True}, {'id': 394984764, 'sex': 1, 'first_name': 'Марина', 'last_name': 'Чекмарева', 'can_access_closed': True, 'is_closed': False}, {'id': 395654124, 'sex': 2, 'first_name': 'Алексей', 'last_name': 'Воронов', 'can_access_closed': True, 'is_closed': False}, {'id': 413980874, 'sex': 2, 'first_name': 'Арсений', 'last_name': 'Зиновьев', 'can_access_closed': True, 'is_closed': False}, {'id': 416191366, 'sex': 1, 'first_name': 'Аля', 'last_name': 'Мишакина', 'can_access_closed': True, 'is_closed': True}, {'id': 417911347, 'sex': 2, 'first_name': 'Дэмчог', 'last_name': 'Сыренов', 'can_access_closed': True, 'is_closed': True}, {'id': 418811071, 'sex': 1, 'first_name': 'Дарья', 'last_name': 'Стогова', 'can_access_closed': True, 'is_closed': True}, {'id': 429880197, 'sex': 2, 'first_name': 'Богдан', 'last_name': 'Вольский', 'can_access_closed': True, 'is_closed': False}, {'id': 438003136, 'sex': 2, 'first_name': 'Валерий', 'last_name': 'Покровский', 'can_access_closed': True, 'is_closed': False}, {'id': 439503543, 'sex': 2, 'first_name': 'Александр', 'last_name': 'Волков', 'can_access_closed': True, 'is_closed': False}, {'id': 450170377, 'sex': 1, 'first_name': 'Наталья', 'last_name': 'Кондратьева', 'can_access_closed': True, 'is_closed': False}, {'id': 451750779, 'sex': 2, 'first_name': 'Данил', 'last_name': 'Гроо', 'can_access_closed': True, 'is_closed': False}, {'id': 464753565, 'sex': 2, 'first_name': 'Егор', 'last_name': 'Красильников', 'can_access_closed': True, 'is_closed': False}, {'id': 467221734, 'sex': 2, 'first_name': 'Дмитрий', 'last_name': 'Павлюченко', 'can_access_closed': True, 'is_closed': False}, {'id': 474814138, 'sex': 2, 'first_name': 'Алексей', 'last_name': 'Шестопалов', 'can_access_closed': True, 'is_closed': True}, {'id': 483702118, 'sex': 1, 'first_name': 'Вика', 'last_name': 'Христюк', 'can_access_closed': True, 'is_closed': False}, {'id': 490116812, 'sex': 2, 'first_name': 'Madoka', 'last_name': 'Kobayashi', 'can_access_closed': True, 'is_closed': False}, {'id': 492671918, 'sex': 2, 'first_name': 'Daniil', 'last_name': 'Esipenko', 'can_access_closed': True, 'is_closed': False}, {'id': 493503811, 'sex': 2, 'first_name': 'Михаил', 'last_name': 'Эпов', 'can_access_closed': True, 'is_closed': True}, {'id': 495809591, 'sex': 2, 'first_name': 'Даниил', 'last_name': 'Иванов', 'can_access_closed': True, 'is_closed': True}, {'id': 496356613, 'sex': 2, 'first_name': 'Давид', 'last_name': 'Федоров', 'can_access_closed': True, 'is_closed': False}, {'id': 503963060, 'sex': 1, 'first_name': 'София', 'last_name': 'Богатырева', 'can_access_closed': True, 'is_closed': True}, {'id': 506073571, 'sex': 2, 'first_name': 'Даниил', 'last_name': 'Скворцов', 'can_access_closed': True, 'is_closed': False}, {'id': 519552111, 'sex': 1, 'first_name': 'Татьяна', 'last_name': 'Зиновьева', 'can_access_closed': True, 'is_closed': False}, {'id': 519556029, 'sex': 2, 'first_name': 'Олег', 'last_name': 'Зиновьев', 'can_access_closed': True, 'is_closed': False}, {'id': 521424744, 'sex': 1, 'first_name': 'Катерина', 'last_name': 'Фёдорова', 'can_access_closed': True, 'is_closed': False}, {'id': 535748658, 'sex': 2, 'first_name': 'Сердар', 'last_name': 'Реджепов', 'can_access_closed': True, 'is_closed': False}, {'id': 539102732, 'sex': 2, 'first_name': 'Евгений', 'last_name': 'Федоров', 'can_access_closed': True, 'is_closed': False}, {'id': 549238401, 'sex': 1, 'first_name': 'Геля', 'last_name': 'Денисова', 'can_access_closed': True, 'is_closed': True}, {'id': 550123226, 'sex': 1, 'first_name': 'Рабия', 'last_name': 'Мухамедгараева', 'can_access_closed': True, 'is_closed': False}, {'id': 551326318, 'sex': 2, 'first_name': 'Савелий', 'last_name': 'Шиянов', 'can_access_closed': True, 'is_closed': False}, {'id': 556618471, 'sex': 2, 'first_name': 'Евгений', 'last_name': 'Хипов', 'can_access_closed': True, 'is_closed': False}, {'id': 561792056, 'sex': 2, 'first_name': 'Mikhail', 'last_name': 'Zharkov', 'can_access_closed': True, 'is_closed': True}, {'id': 562410853, 'sex': 1, 'first_name': 'Анастасия', 'last_name': 'Зайцева', 'can_access_closed': True, 'is_closed': False}, {'id': 563717701, 'sex': 1, 'first_name': 'Naray', 'last_name': 'Mestre', 'can_access_closed': True, 'is_closed': True}, {'id': 571006198, 'sex': 2, 'first_name': 'Ален', 'last_name': 'Саргсян', 'can_access_closed': True, 'is_closed': True}, {'id': 587954539, 'sex': 1, 'first_name': 'Ro', 'last_name': 'Bch', 'can_access_closed': True, 'is_closed': False}, {'id': 596403381, 'sex': 2, 'first_name': 'Макс', 'last_name': 'Жуков', 'can_access_closed': True, 'is_closed': True}, {'id': 599999955, 'sex': 1, 'first_name': 'Арина', 'last_name': 'Самылина', 'can_access_closed': True, 'is_closed': False}, {'id': 613986443, 'sex': 1, 'first_name': 'Евгения', 'last_name': 'Каширская', 'can_access_closed': True, 'is_closed': True}, {'id': 634180729, 'sex': 1, 'first_name': 'Анна-София', 'last_name': 'Мирова', 'can_access_closed': True, 'is_closed': True}, {'id': 680019825, 'sex': 1, 'first_name': 'Екатерина', 'last_name': 'Зиновьева', 'can_access_closed': True, 'is_closed': False}, {'id': 686140890, 'sex': 2, 'first_name': 'Aza', 'last_name': 'Gottliebe', 'can_access_closed': True, 'is_closed': False}, {'id': 696732040, 'sex': 1, 'first_name': 'Инна', 'last_name': 'Дугай', 'can_access_closed': True, 'is_closed': False}, {'id': 698418237, 'sex': 1, 'first_name': 'Лариса', 'last_name': 'Никонова', 'can_access_closed': True, 'is_closed': True}, {'id': 707675103, 'sex': 2, 'first_name': 'Махач', 'last_name': 'Гаджиев', 'can_access_closed': True, 'is_closed': False}, {'id': 715787807, 'sex': 1, 'first_name': 'Елена', 'last_name': 'Иванова', 'can_access_closed': True, 'is_closed': False}, {'id': 753901670, 'sex': 2, 'first_name': 'Андрей', 'last_name': 'Авакумов', 'can_access_closed': True, 'is_closed': False}]\n"
     ]
    }
   ],
   "source": [
    "print(friends_sex_raw)"
   ]
  },
  {
   "cell_type": "code",
   "execution_count": 270,
   "metadata": {},
   "outputs": [
    {
     "data": {
      "text/plain": [
       "dict_keys(['id', 'sex', 'first_name', 'last_name', 'can_access_closed', 'is_closed'])"
      ]
     },
     "execution_count": 270,
     "metadata": {},
     "output_type": "execute_result"
    }
   ],
   "source": [
    "friends_sex_raw[0].keys()"
   ]
  },
  {
   "cell_type": "code",
   "execution_count": 271,
   "metadata": {},
   "outputs": [
    {
     "data": {
      "text/plain": [
       "[2,\n",
       " 2,\n",
       " 2,\n",
       " 2,\n",
       " 2,\n",
       " 2,\n",
       " 1,\n",
       " 2,\n",
       " 2,\n",
       " 2,\n",
       " 2,\n",
       " 2,\n",
       " 2,\n",
       " 2,\n",
       " 1,\n",
       " 1,\n",
       " 2,\n",
       " 1,\n",
       " 2,\n",
       " 2,\n",
       " 2,\n",
       " 1,\n",
       " 2,\n",
       " 2,\n",
       " 2,\n",
       " 2,\n",
       " 1,\n",
       " 2,\n",
       " 2,\n",
       " 2,\n",
       " 2,\n",
       " 1,\n",
       " 1,\n",
       " 2,\n",
       " 2,\n",
       " 1,\n",
       " 2,\n",
       " 1,\n",
       " 1,\n",
       " 1,\n",
       " 2,\n",
       " 1,\n",
       " 1,\n",
       " 2,\n",
       " 2,\n",
       " 1,\n",
       " 2,\n",
       " 2,\n",
       " 2,\n",
       " 2,\n",
       " 1,\n",
       " 1,\n",
       " 1,\n",
       " 1,\n",
       " 1,\n",
       " 1,\n",
       " 2,\n",
       " 1,\n",
       " 1,\n",
       " 2,\n",
       " 2,\n",
       " 2,\n",
       " 2,\n",
       " 2,\n",
       " 2,\n",
       " 2,\n",
       " 1,\n",
       " 2,\n",
       " 2,\n",
       " 1,\n",
       " 2,\n",
       " 2,\n",
       " 1,\n",
       " 2,\n",
       " 2,\n",
       " 1,\n",
       " 2,\n",
       " 1,\n",
       " 1,\n",
       " 1,\n",
       " 1,\n",
       " 1,\n",
       " 2,\n",
       " 2,\n",
       " 2,\n",
       " 2,\n",
       " 1,\n",
       " 2,\n",
       " 1,\n",
       " 2,\n",
       " 1,\n",
       " 1,\n",
       " 1,\n",
       " 2,\n",
       " 1,\n",
       " 1,\n",
       " 2,\n",
       " 2,\n",
       " 2,\n",
       " 2,\n",
       " 1,\n",
       " 2,\n",
       " 2,\n",
       " 2,\n",
       " 1,\n",
       " 1,\n",
       " 2,\n",
       " 1,\n",
       " 2,\n",
       " 2,\n",
       " 2,\n",
       " 2,\n",
       " 2,\n",
       " 2,\n",
       " 2,\n",
       " 1,\n",
       " 2,\n",
       " 1,\n",
       " 1,\n",
       " 2,\n",
       " 1,\n",
       " 1,\n",
       " 2,\n",
       " 2,\n",
       " 2,\n",
       " 2,\n",
       " 2,\n",
       " 2,\n",
       " 1,\n",
       " 1,\n",
       " 2,\n",
       " 2,\n",
       " 1,\n",
       " 1,\n",
       " 2,\n",
       " 1,\n",
       " 2,\n",
       " 1,\n",
       " 1,\n",
       " 2,\n",
       " 2,\n",
       " 2,\n",
       " 1,\n",
       " 2,\n",
       " 2,\n",
       " 1,\n",
       " 2,\n",
       " 2,\n",
       " 2,\n",
       " 2,\n",
       " 1,\n",
       " 2,\n",
       " 2,\n",
       " 1,\n",
       " 1,\n",
       " 1,\n",
       " 1,\n",
       " 2,\n",
       " 1,\n",
       " 2,\n",
       " 2,\n",
       " 2,\n",
       " 2,\n",
       " 2,\n",
       " 1,\n",
       " 1,\n",
       " 2,\n",
       " 2,\n",
       " 2,\n",
       " 2,\n",
       " 2,\n",
       " 2,\n",
       " 1,\n",
       " 2,\n",
       " 2,\n",
       " 1,\n",
       " 2,\n",
       " 1,\n",
       " 2,\n",
       " 1,\n",
       " 1,\n",
       " 2,\n",
       " 2,\n",
       " 2,\n",
       " 2,\n",
       " 1,\n",
       " 2,\n",
       " 1,\n",
       " 2,\n",
       " 2,\n",
       " 2,\n",
       " 2,\n",
       " 1,\n",
       " 1,\n",
       " 2,\n",
       " 1,\n",
       " 1,\n",
       " 1,\n",
       " 2,\n",
       " 2,\n",
       " 2,\n",
       " 1,\n",
       " 2,\n",
       " 1,\n",
       " 1,\n",
       " 2,\n",
       " 2,\n",
       " 1,\n",
       " 2,\n",
       " 1,\n",
       " 2,\n",
       " 1,\n",
       " 2,\n",
       " 2,\n",
       " 2,\n",
       " 1,\n",
       " 2,\n",
       " 1,\n",
       " 1,\n",
       " 2,\n",
       " 2,\n",
       " 1,\n",
       " 2,\n",
       " 1,\n",
       " 1,\n",
       " 2,\n",
       " 2,\n",
       " 1,\n",
       " 1,\n",
       " 2,\n",
       " 2,\n",
       " 1,\n",
       " 2,\n",
       " 2,\n",
       " 1,\n",
       " 2,\n",
       " 1,\n",
       " 2,\n",
       " 2,\n",
       " 2,\n",
       " 1,\n",
       " 2,\n",
       " 2,\n",
       " 2,\n",
       " 2,\n",
       " 1,\n",
       " 2,\n",
       " 2,\n",
       " 2,\n",
       " 2,\n",
       " 2,\n",
       " 1,\n",
       " 2,\n",
       " 1,\n",
       " 2,\n",
       " 1,\n",
       " 2,\n",
       " 2,\n",
       " 1,\n",
       " 1,\n",
       " 2,\n",
       " 2,\n",
       " 2,\n",
       " 1,\n",
       " 1,\n",
       " 2,\n",
       " 1,\n",
       " 2,\n",
       " 1,\n",
       " 1,\n",
       " 1,\n",
       " 1,\n",
       " 2,\n",
       " 1,\n",
       " 1,\n",
       " 2,\n",
       " 1,\n",
       " 2]"
      ]
     },
     "execution_count": 271,
     "metadata": {},
     "output_type": "execute_result"
    }
   ],
   "source": [
    "[item['sex'] for item in friends_sex_raw]"
   ]
  },
  {
   "cell_type": "code",
   "execution_count": 272,
   "metadata": {},
   "outputs": [],
   "source": [
    "friends_sex_json = {\n",
    "    'id': [],\n",
    "    'sex': []\n",
    "}\n",
    "\n",
    "friends_sex_json['id'].extend([item['id'] for item in friends_sex_raw])\n",
    "friends_sex_json['sex'].extend([item['sex'] for item in friends_sex_raw])"
   ]
  },
  {
   "cell_type": "code",
   "execution_count": 273,
   "metadata": {},
   "outputs": [],
   "source": [
    "import pandas as pd\n",
    "df = pd.DataFrame(friends_sex_json)"
   ]
  },
  {
   "cell_type": "code",
   "execution_count": 276,
   "metadata": {},
   "outputs": [],
   "source": [
    "df = df.replace(1, 'Женщины').replace(2, 'Мужчины')"
   ]
  },
  {
   "cell_type": "code",
   "execution_count": 277,
   "metadata": {},
   "outputs": [
    {
     "data": {
      "text/html": [
       "<div>\n",
       "<style scoped>\n",
       "    .dataframe tbody tr th:only-of-type {\n",
       "        vertical-align: middle;\n",
       "    }\n",
       "\n",
       "    .dataframe tbody tr th {\n",
       "        vertical-align: top;\n",
       "    }\n",
       "\n",
       "    .dataframe thead th {\n",
       "        text-align: right;\n",
       "    }\n",
       "</style>\n",
       "<table border=\"1\" class=\"dataframe\">\n",
       "  <thead>\n",
       "    <tr style=\"text-align: right;\">\n",
       "      <th></th>\n",
       "      <th>id</th>\n",
       "      <th>sex</th>\n",
       "    </tr>\n",
       "  </thead>\n",
       "  <tbody>\n",
       "    <tr>\n",
       "      <th>0</th>\n",
       "      <td>9845</td>\n",
       "      <td>Мужчины</td>\n",
       "    </tr>\n",
       "    <tr>\n",
       "      <th>1</th>\n",
       "      <td>46615</td>\n",
       "      <td>Мужчины</td>\n",
       "    </tr>\n",
       "    <tr>\n",
       "      <th>2</th>\n",
       "      <td>419835</td>\n",
       "      <td>Мужчины</td>\n",
       "    </tr>\n",
       "    <tr>\n",
       "      <th>3</th>\n",
       "      <td>931521</td>\n",
       "      <td>Мужчины</td>\n",
       "    </tr>\n",
       "    <tr>\n",
       "      <th>4</th>\n",
       "      <td>1581895</td>\n",
       "      <td>Мужчины</td>\n",
       "    </tr>\n",
       "  </tbody>\n",
       "</table>\n",
       "</div>"
      ],
      "text/plain": [
       "        id      sex\n",
       "0     9845  Мужчины\n",
       "1    46615  Мужчины\n",
       "2   419835  Мужчины\n",
       "3   931521  Мужчины\n",
       "4  1581895  Мужчины"
      ]
     },
     "execution_count": 277,
     "metadata": {},
     "output_type": "execute_result"
    }
   ],
   "source": [
    "df.head()"
   ]
  },
  {
   "cell_type": "markdown",
   "metadata": {
    "jp-MarkdownHeadingCollapsed": true
   },
   "source": [
    "## Построим пол моих друзей визуально\n",
    "1.  Женский\n",
    "2.  Мужской"
   ]
  },
  {
   "cell_type": "code",
   "execution_count": 279,
   "metadata": {},
   "outputs": [
    {
     "data": {
      "text/plain": [
       "<Axes: title={'center': 'Мои друзья ВКонтакте'}, ylabel='id'>"
      ]
     },
     "execution_count": 279,
     "metadata": {},
     "output_type": "execute_result"
    },
    {
     "data": {
      "image/png": "[encoded data removed]",
      "text/plain": [
       "<Figure size 640x480 with 1 Axes>"
      ]
     },
     "metadata": {},
     "output_type": "display_data"
    }
   ],
   "source": [
    "df.groupby(['sex']).count().plot(kind='pie', y='id', title = 'Мои друзья ВКонтакте', autopct='%1.0f%%', colors = ['pink', 'turquoise'])"
   ]
  },
  {
   "cell_type": "markdown",
   "metadata": {},
   "source": [
    "## Теперь посчитаем пол друзей Алины :)"
   ]
  },
  {
   "cell_type": "code",
   "execution_count": 280,
   "metadata": {
    "executionInfo": {
     "elapsed": 237,
     "status": "ok",
     "timestamp": 1709985849199,
     "user": {
      "displayName": "Maxim Zinoviev",
      "userId": "03712553463271013627"
     },
     "user_tz": -180
    },
    "id": "OAdDLSG8CgAm"
   },
   "outputs": [],
   "source": [
    "# Выбираем метод из официальной документации\n",
    "method = 'friends.get'\n",
    "\n",
    "params = 'user_id=303943594'\n",
    "\n",
    "version = '5.199'\n",
    "url = 'https://api.vk.com/method/' + method + '?' + params + '&v=' + version + '&access_token=' +  token"
   ]
  },
  {
   "cell_type": "code",
   "execution_count": 281,
   "metadata": {
    "colab": {
     "base_uri": "https://localhost:8080/"
    },
    "executionInfo": {
     "elapsed": 820,
     "status": "ok",
     "timestamp": 1709985852672,
     "user": {
      "displayName": "Maxim Zinoviev",
      "userId": "03712553463271013627"
     },
     "user_tz": -180
    },
    "id": "ckKOFz6uFwJH",
    "outputId": "70779075-3a62-445f-bc9f-c6f0a6a4ded3"
   },
   "outputs": [
    {
     "data": {
      "text/plain": [
       "{'response': {'count': 63,\n",
       "  'items': [603501,\n",
       "   4824560,\n",
       "   5766268,\n",
       "   11023285,\n",
       "   14425350,\n",
       "   24562254,\n",
       "   47186667,\n",
       "   59130656,\n",
       "   60119852,\n",
       "   63049541,\n",
       "   77955621,\n",
       "   94493906,\n",
       "   113561049,\n",
       "   123467978,\n",
       "   123574012,\n",
       "   136461415,\n",
       "   141545952,\n",
       "   145068079,\n",
       "   150525059,\n",
       "   158717946,\n",
       "   160049517,\n",
       "   162201805,\n",
       "   168575802,\n",
       "   176635279,\n",
       "   188166715,\n",
       "   188491915,\n",
       "   196194358,\n",
       "   196681902,\n",
       "   211353800,\n",
       "   218436614,\n",
       "   225394070,\n",
       "   226278637,\n",
       "   243183912,\n",
       "   260768459,\n",
       "   270482125,\n",
       "   288622114,\n",
       "   296522150,\n",
       "   302566965,\n",
       "   318879859,\n",
       "   328175781,\n",
       "   333623845,\n",
       "   378293282,\n",
       "   381343956,\n",
       "   384313931,\n",
       "   408043183,\n",
       "   427742651,\n",
       "   428949655,\n",
       "   429235346,\n",
       "   444822390,\n",
       "   465189569,\n",
       "   465326244,\n",
       "   475052010,\n",
       "   509723735,\n",
       "   515229181,\n",
       "   519552111,\n",
       "   519556029,\n",
       "   560276504,\n",
       "   611692886,\n",
       "   627168790,\n",
       "   728726082,\n",
       "   746107354,\n",
       "   780310927,\n",
       "   804693736]}}"
      ]
     },
     "execution_count": 281,
     "metadata": {},
     "output_type": "execute_result"
    }
   ],
   "source": [
    "response = requests.get(url)\n",
    "response.json()"
   ]
  },
  {
   "cell_type": "code",
   "execution_count": 282,
   "metadata": {},
   "outputs": [
    {
     "name": "stdout",
     "output_type": "stream",
     "text": [
      "https://api.vk.com/method/friends.get?user_id=303943594&v=5.199&access_token=vk1.a.C7GBo5k7gbWPvr9g4ILiD2R2XWpxqO7tNXbj8b0msnXjUBJegMdcg-JJ0Qerg9AnsvQHl9VMo-UBUpyki8JrsZatx_oCYKZMqR-1xCiAX0mX3QDBomKc6yeJuCf6mExxWNfw3hpEhChKZOE3vWG1ezMpbzoscm9bzn2fNDHpZM4zq1MxxvvB_FWlYrlGKljvS8TFBfs87HNM6PAY3k8e3A\n"
     ]
    }
   ],
   "source": [
    "print(url)"
   ]
  },
  {
   "cell_type": "code",
   "execution_count": 283,
   "metadata": {
    "colab": {
     "base_uri": "https://localhost:8080/"
    },
    "executionInfo": {
     "elapsed": 820,
     "status": "ok",
     "timestamp": 1709985852672,
     "user": {
      "displayName": "Maxim Zinoviev",
      "userId": "03712553463271013627"
     },
     "user_tz": -180
    },
    "id": "ckKOFz6uFwJH",
    "outputId": "70779075-3a62-445f-bc9f-c6f0a6a4ded3"
   },
   "outputs": [
    {
     "data": {
      "text/plain": [
       "{'response': {'count': 63,\n",
       "  'items': [603501,\n",
       "   4824560,\n",
       "   5766268,\n",
       "   11023285,\n",
       "   14425350,\n",
       "   24562254,\n",
       "   47186667,\n",
       "   59130656,\n",
       "   60119852,\n",
       "   63049541,\n",
       "   77955621,\n",
       "   94493906,\n",
       "   113561049,\n",
       "   123467978,\n",
       "   123574012,\n",
       "   136461415,\n",
       "   141545952,\n",
       "   145068079,\n",
       "   150525059,\n",
       "   158717946,\n",
       "   160049517,\n",
       "   162201805,\n",
       "   168575802,\n",
       "   176635279,\n",
       "   188166715,\n",
       "   188491915,\n",
       "   196194358,\n",
       "   196681902,\n",
       "   211353800,\n",
       "   218436614,\n",
       "   225394070,\n",
       "   226278637,\n",
       "   243183912,\n",
       "   260768459,\n",
       "   270482125,\n",
       "   288622114,\n",
       "   296522150,\n",
       "   302566965,\n",
       "   318879859,\n",
       "   328175781,\n",
       "   333623845,\n",
       "   378293282,\n",
       "   381343956,\n",
       "   384313931,\n",
       "   408043183,\n",
       "   427742651,\n",
       "   428949655,\n",
       "   429235346,\n",
       "   444822390,\n",
       "   465189569,\n",
       "   465326244,\n",
       "   475052010,\n",
       "   509723735,\n",
       "   515229181,\n",
       "   519552111,\n",
       "   519556029,\n",
       "   560276504,\n",
       "   611692886,\n",
       "   627168790,\n",
       "   728726082,\n",
       "   746107354,\n",
       "   780310927,\n",
       "   804693736]}}"
      ]
     },
     "execution_count": 283,
     "metadata": {},
     "output_type": "execute_result"
    }
   ],
   "source": [
    "response = requests.get(url)\n",
    "response.json()"
   ]
  },
  {
   "cell_type": "code",
   "execution_count": 284,
   "metadata": {},
   "outputs": [],
   "source": [
    "alinas_friend_ids = response.json()['response']['items']"
   ]
  },
  {
   "cell_type": "code",
   "execution_count": 285,
   "metadata": {},
   "outputs": [
    {
     "name": "stdout",
     "output_type": "stream",
     "text": [
      "[603501, 4824560, 5766268, 11023285, 14425350, 24562254, 47186667, 59130656, 60119852, 63049541, 77955621, 94493906, 113561049, 123467978, 123574012, 136461415, 141545952, 145068079, 150525059, 158717946, 160049517, 162201805, 168575802, 176635279, 188166715, 188491915, 196194358, 196681902, 211353800, 218436614, 225394070, 226278637, 243183912, 260768459, 270482125, 288622114, 296522150, 302566965, 318879859, 328175781, 333623845, 378293282, 381343956, 384313931, 408043183, 427742651, 428949655, 429235346, 444822390, 465189569, 465326244, 475052010, 509723735, 515229181, 519552111, 519556029, 560276504, 611692886, 627168790, 728726082, 746107354, 780310927, 804693736]\n"
     ]
    }
   ],
   "source": [
    "print(alinas_friend_ids)"
   ]
  },
  {
   "cell_type": "code",
   "execution_count": 286,
   "metadata": {},
   "outputs": [],
   "source": [
    "# Переведем список чисел в строку с разделением запятой\n",
    "alinas_friend_ids = ','.join(map(str, alinas_friend_ids))"
   ]
  },
  {
   "cell_type": "code",
   "execution_count": 287,
   "metadata": {},
   "outputs": [
    {
     "name": "stdout",
     "output_type": "stream",
     "text": [
      "603501,4824560,5766268,11023285,14425350,24562254,47186667,59130656,60119852,63049541,77955621,94493906,113561049,123467978,123574012,136461415,141545952,145068079,150525059,158717946,160049517,162201805,168575802,176635279,188166715,188491915,196194358,196681902,211353800,218436614,225394070,226278637,243183912,260768459,270482125,288622114,296522150,302566965,318879859,328175781,333623845,378293282,381343956,384313931,408043183,427742651,428949655,429235346,444822390,465189569,465326244,475052010,509723735,515229181,519552111,519556029,560276504,611692886,627168790,728726082,746107354,780310927,804693736\n"
     ]
    }
   ],
   "source": [
    "print(alinas_friend_ids)"
   ]
  },
  {
   "cell_type": "code",
   "execution_count": 288,
   "metadata": {},
   "outputs": [],
   "source": [
    "alinas_friends_sex_raw = my_vk_api('users.get', alinas_friend_ids, 'sex')"
   ]
  },
  {
   "cell_type": "code",
   "execution_count": 289,
   "metadata": {},
   "outputs": [
    {
     "name": "stdout",
     "output_type": "stream",
     "text": [
      "[{'id': 603501, 'sex': 1, 'first_name': 'Елена', 'last_name': 'Кравченко', 'can_access_closed': True, 'is_closed': False}, {'id': 4824560, 'sex': 1, 'first_name': 'Диана', 'last_name': 'Дзгоева', 'can_access_closed': True, 'is_closed': False}, {'id': 5766268, 'sex': 1, 'first_name': 'Анна', 'last_name': 'Волкова', 'can_access_closed': True, 'is_closed': False}, {'id': 11023285, 'sex': 1, 'first_name': 'Ирина', 'last_name': 'Белова', 'can_access_closed': False, 'is_closed': True}, {'id': 14425350, 'sex': 2, 'first_name': 'Александр', 'last_name': 'Кравченко', 'can_access_closed': False, 'is_closed': True}, {'id': 24562254, 'sex': 1, 'first_name': 'Иоланта', 'last_name': 'Усова', 'can_access_closed': True, 'is_closed': False}, {'id': 47186667, 'sex': 1, 'first_name': 'Ольга', 'last_name': 'Малютина-Раель', 'can_access_closed': False, 'is_closed': True}, {'id': 59130656, 'sex': 1, 'first_name': 'Кристина', 'last_name': 'Коняхина', 'can_access_closed': True, 'is_closed': False}, {'id': 60119852, 'sex': 1, 'first_name': 'Екатерина', 'last_name': 'Путилина', 'can_access_closed': False, 'is_closed': True}, {'id': 63049541, 'sex': 1, 'first_name': 'Ольга', 'last_name': 'Цандарис', 'can_access_closed': True, 'is_closed': False}, {'id': 77955621, 'sex': 1, 'first_name': 'Ольга', 'last_name': 'Естелина', 'can_access_closed': True, 'is_closed': False}, {'id': 94493906, 'sex': 1, 'first_name': 'Алёна', 'last_name': 'Смолина', 'can_access_closed': False, 'is_closed': True}, {'id': 113561049, 'sex': 1, 'first_name': 'Валерия', 'last_name': 'Сивоконь', 'can_access_closed': True, 'is_closed': False}, {'id': 123467978, 'sex': 1, 'first_name': 'Элина', 'last_name': 'Усова', 'can_access_closed': True, 'is_closed': False}, {'id': 123574012, 'sex': 1, 'first_name': 'Анастасия', 'last_name': 'Михайлецкая', 'can_access_closed': True, 'is_closed': False}, {'id': 136461415, 'sex': 1, 'first_name': 'Ксения', 'last_name': 'Глебова', 'can_access_closed': True, 'is_closed': False}, {'id': 141545952, 'sex': 2, 'first_name': 'Егор', 'last_name': 'Радченко', 'can_access_closed': True, 'is_closed': False}, {'id': 145068079, 'sex': 1, 'first_name': 'Дарья', 'last_name': 'Шульц', 'can_access_closed': True, 'is_closed': False}, {'id': 150525059, 'sex': 1, 'first_name': 'Марина', 'last_name': 'Карелина', 'can_access_closed': False, 'is_closed': True}, {'id': 158717946, 'sex': 1, 'first_name': 'София', 'last_name': 'Писаренко', 'can_access_closed': True, 'is_closed': False}, {'id': 160049517, 'sex': 1, 'first_name': 'Полина', 'last_name': 'Соловьева', 'can_access_closed': False, 'is_closed': True}, {'id': 162201805, 'sex': 1, 'first_name': 'Полина', 'last_name': 'Небылица', 'can_access_closed': True, 'is_closed': False}, {'id': 168575802, 'sex': 1, 'first_name': 'Кристина', 'last_name': 'Лященко', 'can_access_closed': True, 'is_closed': False}, {'id': 176635279, 'sex': 1, 'first_name': 'Ирина', 'last_name': 'Семенова', 'can_access_closed': True, 'is_closed': False}, {'id': 188166715, 'sex': 2, 'first_name': 'Роман', 'last_name': 'Рудаков', 'can_access_closed': True, 'is_closed': False}, {'id': 188491915, 'sex': 1, 'first_name': 'Виктория', 'last_name': 'Линивцева', 'can_access_closed': False, 'is_closed': True}, {'id': 196194358, 'sex': 2, 'first_name': 'Вартан', 'last_name': 'Мазманян', 'can_access_closed': False, 'is_closed': True}, {'id': 196681902, 'sex': 1, 'first_name': 'Наталья', 'last_name': 'Малютина-Шведова', 'can_access_closed': True, 'is_closed': False}, {'id': 211353800, 'sex': 1, 'first_name': 'Елизавета', 'last_name': 'Павлова', 'can_access_closed': True, 'is_closed': False}, {'id': 218436614, 'sex': 1, 'first_name': 'Кристина', 'last_name': 'Шепалова', 'can_access_closed': True, 'is_closed': False}, {'id': 225394070, 'sex': 1, 'first_name': 'Юля', 'last_name': 'Медведева', 'can_access_closed': True, 'is_closed': False}, {'id': 226278637, 'sex': 1, 'first_name': 'Виктория', 'last_name': 'Терентьева', 'can_access_closed': True, 'is_closed': False}, {'id': 243183912, 'sex': 1, 'first_name': 'Аня', 'last_name': 'Черненко', 'can_access_closed': True, 'is_closed': False}, {'id': 260768459, 'sex': 2, 'first_name': 'Ivan', 'last_name': 'Ivanov', 'can_access_closed': False, 'is_closed': True}, {'id': 270482125, 'sex': 1, 'first_name': 'Анастасия', 'last_name': 'Кравченко', 'can_access_closed': True, 'is_closed': False}, {'id': 288622114, 'sex': 2, 'first_name': 'Александр', 'last_name': 'Живора', 'can_access_closed': True, 'is_closed': False}, {'id': 296522150, 'sex': 1, 'first_name': 'Анастасия', 'last_name': 'Иванова', 'can_access_closed': True, 'is_closed': False}, {'id': 302566965, 'sex': 1, 'first_name': 'Елизавета', 'last_name': 'Ручкина', 'can_access_closed': False, 'is_closed': True}, {'id': 318879859, 'sex': 1, 'first_name': 'Кристина', 'last_name': 'Райт', 'can_access_closed': True, 'is_closed': True}, {'id': 328175781, 'sex': 2, 'first_name': 'Ярослав', 'last_name': 'Анисимов', 'can_access_closed': False, 'is_closed': True}, {'id': 333623845, 'sex': 1, 'first_name': 'Вера', 'last_name': 'Устимова', 'can_access_closed': True, 'is_closed': False}, {'id': 378293282, 'sex': 2, 'first_name': 'Иван', 'last_name': 'Гребелкин', 'can_access_closed': True, 'is_closed': False}, {'id': 381343956, 'sex': 1, 'first_name': 'Раиса', 'last_name': 'Шведова', 'can_access_closed': True, 'is_closed': False}, {'id': 384313931, 'sex': 1, 'first_name': 'Диана', 'last_name': 'Насонова', 'can_access_closed': True, 'is_closed': False}, {'id': 408043183, 'sex': 1, 'first_name': 'Мария', 'last_name': 'Аренкина', 'can_access_closed': True, 'is_closed': False}, {'id': 427742651, 'sex': 1, 'first_name': 'Яна', 'last_name': 'Шадрина', 'can_access_closed': True, 'is_closed': False}, {'id': 428949655, 'sex': 1, 'first_name': 'Анастасия', 'last_name': 'Дулич', 'can_access_closed': True, 'is_closed': False}, {'id': 429235346, 'sex': 1, 'first_name': 'Валерия', 'last_name': 'Денис', 'can_access_closed': True, 'is_closed': False}, {'id': 444822390, 'sex': 2, 'first_name': 'Александр', 'last_name': 'Дементьев', 'can_access_closed': False, 'is_closed': True}, {'id': 465189569, 'sex': 2, 'first_name': 'Фёдор', 'last_name': 'Миколаени', 'can_access_closed': True, 'is_closed': False}, {'id': 465326244, 'sex': 1, 'first_name': 'Настя', 'last_name': 'Юрченко', 'can_access_closed': False, 'is_closed': True}, {'id': 475052010, 'sex': 1, 'first_name': 'Анастасия', 'last_name': 'Виноградова', 'can_access_closed': True, 'is_closed': False}, {'id': 509723735, 'sex': 1, 'first_name': 'Ёки', 'last_name': 'Беккер-Кравченко', 'can_access_closed': True, 'is_closed': False}, {'id': 515229181, 'sex': 1, 'first_name': 'Светлана', 'last_name': 'Щепилова', 'can_access_closed': True, 'is_closed': False}, {'id': 519552111, 'sex': 1, 'first_name': 'Татьяна', 'last_name': 'Зиновьева', 'can_access_closed': True, 'is_closed': False}, {'id': 519556029, 'sex': 2, 'first_name': 'Олег', 'last_name': 'Зиновьев', 'can_access_closed': True, 'is_closed': False}, {'id': 560276504, 'sex': 2, 'first_name': 'Максим', 'last_name': 'Зиновьев', 'can_access_closed': True, 'is_closed': False}, {'id': 611692886, 'sex': 1, 'first_name': 'Наталья', 'last_name': 'Запарина', 'can_access_closed': True, 'is_closed': False}, {'id': 627168790, 'sex': 1, 'first_name': 'Наталья', 'last_name': 'Сзиуранхигс', 'can_access_closed': True, 'is_closed': False}, {'id': 728726082, 'sex': 1, 'first_name': 'Дарья', 'last_name': 'Саламонова', 'can_access_closed': True, 'is_closed': False}, {'id': 746107354, 'sex': 1, 'first_name': 'Елизавета', 'last_name': 'Киркина', 'can_access_closed': True, 'is_closed': False}, {'id': 780310927, 'sex': 1, 'first_name': 'Daria', 'last_name': 'Linivtseva', 'can_access_closed': False, 'is_closed': True}, {'id': 804693736, 'sex': 2, 'first_name': 'Dr', 'last_name': 'Zigler', 'can_access_closed': False, 'is_closed': True}]\n"
     ]
    }
   ],
   "source": [
    "print(alinas_friends_sex_raw)"
   ]
  },
  {
   "cell_type": "code",
   "execution_count": 290,
   "metadata": {},
   "outputs": [],
   "source": [
    "alinas_friends_sex_json = {\n",
    "    'id': [],\n",
    "    'sex': []\n",
    "}\n",
    "\n",
    "alinas_friends_sex_json['id'].extend([item['id'] for item in alinas_friends_sex_raw])\n",
    "alinas_friends_sex_json['sex'].extend([item['sex'] for item in alinas_friends_sex_raw])"
   ]
  },
  {
   "cell_type": "code",
   "execution_count": 291,
   "metadata": {},
   "outputs": [],
   "source": [
    "import pandas as pd\n",
    "df = pd.DataFrame(alinas_friends_sex_json)"
   ]
  },
  {
   "cell_type": "code",
   "execution_count": 292,
   "metadata": {},
   "outputs": [],
   "source": [
    "df = df.replace(1, 'Женщины').replace(2, 'Мужчины')"
   ]
  },
  {
   "cell_type": "code",
   "execution_count": 293,
   "metadata": {},
   "outputs": [
    {
     "data": {
      "text/html": [
       "<div>\n",
       "<style scoped>\n",
       "    .dataframe tbody tr th:only-of-type {\n",
       "        vertical-align: middle;\n",
       "    }\n",
       "\n",
       "    .dataframe tbody tr th {\n",
       "        vertical-align: top;\n",
       "    }\n",
       "\n",
       "    .dataframe thead th {\n",
       "        text-align: right;\n",
       "    }\n",
       "</style>\n",
       "<table border=\"1\" class=\"dataframe\">\n",
       "  <thead>\n",
       "    <tr style=\"text-align: right;\">\n",
       "      <th></th>\n",
       "      <th>id</th>\n",
       "      <th>sex</th>\n",
       "    </tr>\n",
       "  </thead>\n",
       "  <tbody>\n",
       "    <tr>\n",
       "      <th>0</th>\n",
       "      <td>603501</td>\n",
       "      <td>Женщины</td>\n",
       "    </tr>\n",
       "    <tr>\n",
       "      <th>1</th>\n",
       "      <td>4824560</td>\n",
       "      <td>Женщины</td>\n",
       "    </tr>\n",
       "    <tr>\n",
       "      <th>2</th>\n",
       "      <td>5766268</td>\n",
       "      <td>Женщины</td>\n",
       "    </tr>\n",
       "    <tr>\n",
       "      <th>3</th>\n",
       "      <td>11023285</td>\n",
       "      <td>Женщины</td>\n",
       "    </tr>\n",
       "    <tr>\n",
       "      <th>4</th>\n",
       "      <td>14425350</td>\n",
       "      <td>Мужчины</td>\n",
       "    </tr>\n",
       "  </tbody>\n",
       "</table>\n",
       "</div>"
      ],
      "text/plain": [
       "         id      sex\n",
       "0    603501  Женщины\n",
       "1   4824560  Женщины\n",
       "2   5766268  Женщины\n",
       "3  11023285  Женщины\n",
       "4  14425350  Мужчины"
      ]
     },
     "execution_count": 293,
     "metadata": {},
     "output_type": "execute_result"
    }
   ],
   "source": [
    "df.head()"
   ]
  },
  {
   "cell_type": "markdown",
   "metadata": {
    "jp-MarkdownHeadingCollapsed": true
   },
   "source": [
    "## Посмотрим пол друзей Алины визуально"
   ]
  },
  {
   "cell_type": "code",
   "execution_count": 294,
   "metadata": {},
   "outputs": [
    {
     "data": {
      "text/plain": [
       "<Axes: title={'center': 'Друзья Алины ВКонтакте'}, ylabel='id'>"
      ]
     },
     "execution_count": 294,
     "metadata": {},
     "output_type": "execute_result"
    },
    {
     "data": {
      "image/png": "[encoded data removed]",
      "text/plain": [
       "<Figure size 640x480 with 1 Axes>"
      ]
     },
     "metadata": {},
     "output_type": "display_data"
    }
   ],
   "source": [
    "df.groupby(['sex']).count().plot(kind='pie', y='id', title = 'Друзья Алины ВКонтакте', autopct='%1.0f%%', colors = ['pink', 'turquoise'])"
   ]
  },
  {
   "cell_type": "markdown",
   "metadata": {},
   "source": [
    "## Теперь посчитаем пол друзей любого человека :)"
   ]
  },
  {
   "cell_type": "code",
   "execution_count": 7,
   "metadata": {
    "executionInfo": {
     "elapsed": 237,
     "status": "ok",
     "timestamp": 1709985849199,
     "user": {
      "displayName": "Maxim Zinoviev",
      "userId": "03712553463271013627"
     },
     "user_tz": -180
    },
    "id": "OAdDLSG8CgAm"
   },
   "outputs": [],
   "source": [
    "# Выбираем метод из официальной документации\n",
    "method = 'friends.get'\n",
    "\n",
    "params = 'user_id=154937726'\n",
    "\n",
    "version = '5.199'\n",
    "url = 'https://api.vk.com/method/' + method + '?' + params + '&v=' + version + '&access_token=' +  token\n",
    "\n",
    "response = requests.get(url)\n",
    "response.json()\n",
    "\n",
    "person_friend_ids = response.json()['response']['items']\n",
    "\n",
    "from tqdm import tqdm_notebook\n",
    "import time"
   ]
  },
  {
   "cell_type": "code",
   "execution_count": 13,
   "metadata": {},
   "outputs": [
    {
     "name": "stdout",
     "output_type": "stream",
     "text": [
      "1189\n"
     ]
    }
   ],
   "source": [
    "print(len(person_friend_ids))"
   ]
  },
  {
   "cell_type": "code",
   "execution_count": 17,
   "metadata": {},
   "outputs": [
    {
     "name": "stderr",
     "output_type": "stream",
     "text": [
      "C:\\Users\\zinov\\AppData\\Local\\Temp\\ipykernel_22884\\38126921.py:8: TqdmDeprecationWarning: This function will be removed in tqdm==5.0.0\n",
      "Please use `tqdm.notebook.tqdm` instead of `tqdm.tqdm_notebook`\n",
      "  for i in tqdm_notebook(range(0, person_friends_count, 100)):\n"
     ]
    },
    {
     "data": {
      "application/vnd.jupyter.widget-view+json": {
       "model_id": "65396d887155446dae26f5f8cd7f9fa4",
       "version_major": 2,
       "version_minor": 0
      },
      "text/plain": [
       "  0%|          | 0/12 [00:00<?, ?it/s]"
      ]
     },
     "metadata": {},
     "output_type": "display_data"
    }
   ],
   "source": [
    "person_friends_sex_json = {\n",
    "    'id': [],\n",
    "    'sex': []\n",
    "}\n",
    "\n",
    "person_friends_count = len(person_friend_ids)\n",
    "\n",
    "for i in tqdm_notebook(range(0, person_friends_count, 100)):\n",
    "    time.sleep(0.4)\n",
    "\n",
    "    # Переведем список чисел в строку с разделением запятой, взяв срез из списка id\n",
    "    ids = ','.join(map(str, person_friend_ids[:i]))\n",
    "    person_friend_ids[:i] = []\n",
    "    \n",
    "    data = my_vk_api('users.get', ids, 'sex')\n",
    "    person_friends_sex_json['id'].extend([item['id'] for item in data])\n",
    "    person_friends_sex_json['sex'].extend([item['sex'] for item in data])"
   ]
  },
  {
   "cell_type": "code",
   "execution_count": 18,
   "metadata": {},
   "outputs": [
    {
     "data": {
      "text/plain": [
       "<Axes: title={'center': 'Друзья Матвея ВКонтакте'}, ylabel='id'>"
      ]
     },
     "execution_count": 18,
     "metadata": {},
     "output_type": "execute_result"
    },
    {
     "data": {
      "image/png": "[encoded data removed]",
      "text/plain": [
       "<Figure size 640x480 with 1 Axes>"
      ]
     },
     "metadata": {},
     "output_type": "display_data"
    }
   ],
   "source": [
    "import pandas as pd\n",
    "df = pd.DataFrame(person_friends_sex_json)\n",
    "\n",
    "df = df.replace(1, 'Женщины').replace(2, 'Мужчины')\n",
    "\n",
    "df.groupby(['sex']).count().plot(kind='pie', y='id', title = 'Друзья Матвея ВКонтакте', autopct='%1.0f%%', colors = ['pink', 'turquoise'])"
   ]
  },
  {
   "cell_type": "code",
   "execution_count": 19,
   "metadata": {},
   "outputs": [
    {
     "data": {
      "text/html": [
       "<div>\n",
       "<style scoped>\n",
       "    .dataframe tbody tr th:only-of-type {\n",
       "        vertical-align: middle;\n",
       "    }\n",
       "\n",
       "    .dataframe tbody tr th {\n",
       "        vertical-align: top;\n",
       "    }\n",
       "\n",
       "    .dataframe thead th {\n",
       "        text-align: right;\n",
       "    }\n",
       "</style>\n",
       "<table border=\"1\" class=\"dataframe\">\n",
       "  <thead>\n",
       "    <tr style=\"text-align: right;\">\n",
       "      <th></th>\n",
       "      <th>id</th>\n",
       "      <th>sex</th>\n",
       "    </tr>\n",
       "  </thead>\n",
       "  <tbody>\n",
       "    <tr>\n",
       "      <th>0</th>\n",
       "      <td>43293</td>\n",
       "      <td>Мужчины</td>\n",
       "    </tr>\n",
       "    <tr>\n",
       "      <th>1</th>\n",
       "      <td>56572</td>\n",
       "      <td>Мужчины</td>\n",
       "    </tr>\n",
       "    <tr>\n",
       "      <th>2</th>\n",
       "      <td>177034</td>\n",
       "      <td>Женщины</td>\n",
       "    </tr>\n",
       "    <tr>\n",
       "      <th>3</th>\n",
       "      <td>201987</td>\n",
       "      <td>Мужчины</td>\n",
       "    </tr>\n",
       "    <tr>\n",
       "      <th>4</th>\n",
       "      <td>240755</td>\n",
       "      <td>Женщины</td>\n",
       "    </tr>\n",
       "  </tbody>\n",
       "</table>\n",
       "</div>"
      ],
      "text/plain": [
       "       id      sex\n",
       "0   43293  Мужчины\n",
       "1   56572  Мужчины\n",
       "2  177034  Женщины\n",
       "3  201987  Мужчины\n",
       "4  240755  Женщины"
      ]
     },
     "execution_count": 19,
     "metadata": {},
     "output_type": "execute_result"
    }
   ],
   "source": [
    "df.head()"
   ]
  }
 ],
 "metadata": {
  "colab": {
   "authorship_tag": "ABX9TyMAHd96d5W4Kcdlj6V+BnUP",
   "mount_file_id": "1rZyhvfcxBJ1dMiUc8Zi8xYWNN8J57GCT",
   "provenance": []
  },
  "kernelspec": {
   "display_name": "Python 3 (ipykernel)",
   "language": "python",
   "name": "python3"
  },
  "language_info": {
   "codemirror_mode": {
    "name": "ipython",
    "version": 3
   },
   "file_extension": ".py",
   "mimetype": "text/x-python",
   "name": "python",
   "nbconvert_exporter": "python",
   "pygments_lexer": "ipython3",
   "version": "3.11.8"
  }
 },
 "nbformat": 4,
 "nbformat_minor": 4
}
